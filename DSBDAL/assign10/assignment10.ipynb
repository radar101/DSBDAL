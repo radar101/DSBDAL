{
 "cells": [
  {
   "cell_type": "code",
   "execution_count": 36,
   "id": "c7eb1538-ea90-4b7e-a9e4-c3a1b9e76cfa",
   "metadata": {},
   "outputs": [
    {
     "name": "stderr",
     "output_type": "stream",
     "text": [
      "[nltk_data] Downloading package punkt to C:\\Users\\Darshan\n",
      "[nltk_data]     Mahajan\\AppData\\Roaming\\nltk_data...\n",
      "[nltk_data]   Package punkt is already up-to-date!\n"
     ]
    },
    {
     "data": {
      "text/plain": [
       "True"
      ]
     },
     "execution_count": 36,
     "metadata": {},
     "output_type": "execute_result"
    }
   ],
   "source": [
    "import nltk\n",
    "import os\n",
    "nltk.download('punkt')"
   ]
  },
  {
   "cell_type": "code",
   "execution_count": 37,
   "id": "27cc01a8-8a1a-4c9a-bd82-9db99acb2e66",
   "metadata": {},
   "outputs": [],
   "source": [
    "script_directory = os.getcwd()\n",
    "os.chdir(script_directory)"
   ]
  },
  {
   "cell_type": "code",
   "execution_count": 38,
   "id": "827fd1ef-a81a-444a-82c2-83a471523a54",
   "metadata": {},
   "outputs": [],
   "source": [
    "all_tokens = []"
   ]
  },
  {
   "cell_type": "code",
   "execution_count": 39,
   "id": "2fdaa3a0-f598-4879-9ab7-b058a64bffc1",
   "metadata": {},
   "outputs": [],
   "source": [
    "def read_text_file(file_path): \n",
    "    with open(file_path, 'r') as f: \n",
    "        word = f.read()\n",
    "        temp = nltk.word_tokenize(word)\n",
    "        all_tokens.extend(temp)"
   ]
  },
  {
   "cell_type": "code",
   "execution_count": 40,
   "id": "0990177d-1b32-4fb4-b461-3f6af4464599",
   "metadata": {},
   "outputs": [],
   "source": [
    "for file in os.listdir():\n",
    "    if file.endswith(\".txt\"):\n",
    "        file_path = os.path.join(script_directory, file)\n",
    "        read_text_file(file_path)"
   ]
  },
  {
   "cell_type": "code",
   "execution_count": 41,
   "id": "0431fbef-6069-4364-a84e-cea9a0a035e3",
   "metadata": {},
   "outputs": [],
   "source": [
    "import numpy as np"
   ]
  },
  {
   "cell_type": "code",
   "execution_count": 42,
   "id": "dcc300a8-fef0-460c-9964-9f1edaadccf5",
   "metadata": {},
   "outputs": [],
   "source": [
    "def clean_list(tokens):\n",
    "    characters_to_remove = [',', '.', ' ']\n",
    "    for token in tokens:\n",
    "        if token in characters_to_remove:\n",
    "            tokens.remove(token)    "
   ]
  },
  {
   "cell_type": "code",
   "execution_count": 43,
   "id": "34a43852-fe9e-4ab1-9193-d36e033172ac",
   "metadata": {},
   "outputs": [],
   "source": [
    "clean_list(all_tokens)"
   ]
  },
  {
   "cell_type": "code",
   "execution_count": 44,
   "id": "469533dd",
   "metadata": {},
   "outputs": [
    {
     "name": "stderr",
     "output_type": "stream",
     "text": [
      "[nltk_data] Downloading package stopwords to C:\\Users\\Darshan\n",
      "[nltk_data]     Mahajan\\AppData\\Roaming\\nltk_data...\n",
      "[nltk_data]   Package stopwords is already up-to-date!\n"
     ]
    }
   ],
   "source": [
    "nltk.download(\"stopwords\")\n",
    "from nltk.corpus import stopwords\n"
   ]
  },
  {
   "cell_type": "markdown",
   "id": "b60ca840",
   "metadata": {},
   "source": [
    "Stop words are words that you want to ignore, so you filter them out of your text when you’re processing it. Very common words like 'in', 'is', and 'an' are often used as stop words since they don’t add a lot of meaning to a text in and of themselves."
   ]
  },
  {
   "cell_type": "code",
   "execution_count": 45,
   "id": "e9ad99b2",
   "metadata": {},
   "outputs": [],
   "source": [
    "\n",
    "\n",
    "stop_words = set(stopwords.words(\"english\"))\n",
    "filtered_list = []\n",
    "for word in all_tokens:\n",
    "    if word.casefold() not in stop_words:\n",
    "         filtered_list.append(word)\n",
    "\n",
    "all_tokens = filtered_list\n"
   ]
  },
  {
   "cell_type": "code",
   "execution_count": 46,
   "id": "018561a8-7db1-49c9-baa6-0f0e86ca8a61",
   "metadata": {},
   "outputs": [
    {
     "name": "stderr",
     "output_type": "stream",
     "text": [
      "[nltk_data] Downloading package averaged_perceptron_tagger to\n",
      "[nltk_data]     C:\\Users\\Darshan Mahajan\\AppData\\Roaming\\nltk_data...\n",
      "[nltk_data]   Package averaged_perceptron_tagger is already up-to-\n",
      "[nltk_data]       date!\n"
     ]
    },
    {
     "data": {
      "text/plain": [
       "True"
      ]
     },
     "execution_count": 46,
     "metadata": {},
     "output_type": "execute_result"
    }
   ],
   "source": [
    "nltk.download('averaged_perceptron_tagger')"
   ]
  },
  {
   "cell_type": "markdown",
   "id": "9b016296",
   "metadata": {},
   "source": [
    "Part of speech is a grammatical term that deals with the roles words play when you use them together in sentences. \n",
    "Tagging parts of speech, or POS tagging, is the task of labeling the words in your text according to their part of speech."
   ]
  },
  {
   "cell_type": "code",
   "execution_count": 75,
   "id": "9e948919-e39e-46aa-9203-4aa52cbf0ce0",
   "metadata": {},
   "outputs": [],
   "source": [
    "pos = nltk.pos_tag(all_tokens)\n",
    "# pos"
   ]
  },
  {
   "cell_type": "markdown",
   "id": "f7663144",
   "metadata": {},
   "source": [
    "Tags    Deal with\n",
    "JJ      Adjectives\n",
    "NN      Nouns\n",
    "RB\t    Adverbs\n",
    "PRP\t    Pronouns\n",
    "VB\t    Verbs"
   ]
  },
  {
   "cell_type": "code",
   "execution_count": 48,
   "id": "82b48b67-3cf8-4c46-ae3c-dda1d79bbcfb",
   "metadata": {},
   "outputs": [],
   "source": [
    "from nltk.stem import PorterStemmer"
   ]
  },
  {
   "cell_type": "markdown",
   "id": "fac981be",
   "metadata": {},
   "source": [
    "Stemming is a text processing task in which you reduce words to their root, which is the core part of a word. For example, the words “helping” and “helper” share the root “help.” Stemming allows you to zero in on the basic meaning of a word rather than all the details of how it’s being used. NLTK has more than one stemmer, but you’ll be using the Porter stemmer."
   ]
  },
  {
   "cell_type": "code",
   "execution_count": 49,
   "id": "4ede0efa-0228-431e-81b6-e7b3dcd89c0d",
   "metadata": {},
   "outputs": [],
   "source": [
    "dict = {}\n",
    "\n",
    "ps = PorterStemmer()\n",
    "for w in all_tokens:\n",
    "    dict[w] = ps.stem(w)"
   ]
  },
  {
   "cell_type": "code",
   "execution_count": 74,
   "id": "453746c7-7d64-4a4c-b2c5-54b3d6d16266",
   "metadata": {},
   "outputs": [],
   "source": [
    "# print(dict)"
   ]
  },
  {
   "cell_type": "markdown",
   "id": "e6a3c1cd",
   "metadata": {},
   "source": [
    "Understemming and overstemming are two ways stemming can go wrong:\n",
    "\n",
    "1. Understemming happens when two related words should be reduced to the same stem but aren’t. This is a false negative.\n",
    "\n",
    "2. Overstemming happens when two unrelated words are reduced to the same stem even though they shouldn’t be. This is a false positive."
   ]
  },
  {
   "cell_type": "code",
   "execution_count": 51,
   "id": "d3796d6c-7d5f-40bb-b962-8bdc0ef9b6b3",
   "metadata": {},
   "outputs": [
    {
     "name": "stderr",
     "output_type": "stream",
     "text": [
      "[nltk_data] Downloading package wordnet to C:\\Users\\Darshan\n",
      "[nltk_data]     Mahajan\\AppData\\Roaming\\nltk_data...\n",
      "[nltk_data]   Package wordnet is already up-to-date!\n",
      "[nltk_data] Downloading package omw-1.4 to C:\\Users\\Darshan\n",
      "[nltk_data]     Mahajan\\AppData\\Roaming\\nltk_data...\n",
      "[nltk_data]   Package omw-1.4 is already up-to-date!\n"
     ]
    },
    {
     "data": {
      "text/plain": [
       "True"
      ]
     },
     "execution_count": 51,
     "metadata": {},
     "output_type": "execute_result"
    }
   ],
   "source": [
    "from nltk.stem import WordNetLemmatizer\n",
    "nltk.download('wordnet')\n",
    "import nltk\n",
    "nltk.download('omw-1.4')\n"
   ]
  },
  {
   "cell_type": "markdown",
   "id": "fb4975b0",
   "metadata": {},
   "source": [
    " Like stemming, lemmatizing reduces words to their core meaning, but it will give you a complete English word that makes sense on its own instead of just a fragment of a word like 'discoveri'."
   ]
  },
  {
   "cell_type": "code",
   "execution_count": 52,
   "id": "830ce6a0-7bcb-400c-b296-4587fabb3fd5",
   "metadata": {},
   "outputs": [],
   "source": [
    "lm = WordNetLemmatizer()"
   ]
  },
  {
   "cell_type": "code",
   "execution_count": 53,
   "id": "c70e04d6-f617-43cf-a246-ce582025e30d",
   "metadata": {},
   "outputs": [],
   "source": [
    "lem_dict = {}\n",
    "for w in all_tokens:\n",
    "    lem_dict[w] = lm.lemmatize(w)"
   ]
  },
  {
   "cell_type": "code",
   "execution_count": 73,
   "id": "56530d1f-6301-4e71-83d8-0787e42d2c79",
   "metadata": {},
   "outputs": [],
   "source": [
    "# print(lem_dict)\n",
    "# print(len(lem_dict))\n",
    "# print(len(all_tokens))"
   ]
  },
  {
   "cell_type": "code",
   "execution_count": 76,
   "id": "93307e31",
   "metadata": {},
   "outputs": [
    {
     "data": {
      "text/plain": [
       "{'Sustainable': 0.002840909090909091,\n",
       " 'fashion': 0.07670454545454546,\n",
       " 'gaining': 0.002840909090909091,\n",
       " 'momentum': 0.002840909090909091,\n",
       " 'consumers': 0.002840909090909091,\n",
       " 'prioritize': 0.002840909090909091,\n",
       " 'eco-friendly': 0.002840909090909091,\n",
       " 'choices': 0.011363636363636364,\n",
       " 'ethically': 0.002840909090909091,\n",
       " 'sourced': 0.002840909090909091,\n",
       " 'materials': 0.002840909090909091,\n",
       " 'fair': 0.002840909090909091,\n",
       " 'labor': 0.002840909090909091,\n",
       " 'practices': 0.005681818181818182,\n",
       " 'industry': 0.02556818181818182,\n",
       " 'adapting': 0.002840909090909091,\n",
       " 'meet': 0.002840909090909091,\n",
       " 'demand': 0.002840909090909091,\n",
       " 'environmentally': 0.002840909090909091,\n",
       " 'conscious': 0.002840909090909091,\n",
       " 'clothing': 0.008522727272727272,\n",
       " 'Designers': 0.005681818181818182,\n",
       " 'increasingly': 0.008522727272727272,\n",
       " 'incorporating': 0.002840909090909091,\n",
       " 'recycled': 0.002840909090909091,\n",
       " 'fabrics': 0.005681818181818182,\n",
       " 'sustainable': 0.008522727272727272,\n",
       " 'production': 0.008522727272727272,\n",
       " 'methods': 0.005681818181818182,\n",
       " 'setting': 0.005681818181818182,\n",
       " 'new': 0.005681818181818182,\n",
       " 'standard': 0.002840909090909091,\n",
       " 'ethical': 0.005681818181818182,\n",
       " 'Vintage': 0.002840909090909091,\n",
       " 'continues': 0.002840909090909091,\n",
       " 'inspire': 0.002840909090909091,\n",
       " 'contemporary': 0.002840909090909091,\n",
       " 'styles': 0.005681818181818182,\n",
       " 'iconic': 0.005681818181818182,\n",
       " 'looks': 0.002840909090909091,\n",
       " 'past': 0.002840909090909091,\n",
       " 'decades': 0.002840909090909091,\n",
       " 'making': 0.002840909090909091,\n",
       " 'comebacks': 0.002840909090909091,\n",
       " 'Thrifting': 0.002840909090909091,\n",
       " 'upcycling': 0.002840909090909091,\n",
       " 'contribute': 0.002840909090909091,\n",
       " 'popularity': 0.002840909090909091,\n",
       " 'vintage': 0.005681818181818182,\n",
       " 'Embracing': 0.002840909090909091,\n",
       " 'pieces': 0.005681818181818182,\n",
       " 'adds': 0.002840909090909091,\n",
       " 'unique': 0.002840909090909091,\n",
       " 'flair': 0.002840909090909091,\n",
       " 'personal': 0.002840909090909091,\n",
       " 'style': 0.005681818181818182,\n",
       " 'also': 0.002840909090909091,\n",
       " 'promotes': 0.005681818181818182,\n",
       " 'circular': 0.002840909090909091,\n",
       " 'economy': 0.002840909090909091,\n",
       " 'encouraging': 0.005681818181818182,\n",
       " 'shift': 0.008522727272727272,\n",
       " 'towards': 0.008522727272727272,\n",
       " 'mindful': 0.002840909090909091,\n",
       " 'timeless': 0.002840909090909091,\n",
       " 'Paris': 0.002840909090909091,\n",
       " 'Milan': 0.002840909090909091,\n",
       " 'London': 0.002840909090909091,\n",
       " 'New': 0.002840909090909091,\n",
       " 'York': 0.002840909090909091,\n",
       " 'renowned': 0.002840909090909091,\n",
       " 'capitals': 0.002840909090909091,\n",
       " 'hosting': 0.002840909090909091,\n",
       " 'weeks': 0.002840909090909091,\n",
       " 'set': 0.002840909090909091,\n",
       " 'global': 0.005681818181818182,\n",
       " 'trends': 0.011363636363636364,\n",
       " 'events': 0.002840909090909091,\n",
       " 'showcase': 0.005681818181818182,\n",
       " 'creativity': 0.005681818181818182,\n",
       " 'innovation': 0.005681818181818182,\n",
       " 'designers': 0.005681818181818182,\n",
       " 'around': 0.002840909090909091,\n",
       " 'world': 0.005681818181818182,\n",
       " 'intersection': 0.002840909090909091,\n",
       " 'culture': 0.002840909090909091,\n",
       " 'art': 0.005681818181818182,\n",
       " 'commerce': 0.002840909090909091,\n",
       " 'cities': 0.002840909090909091,\n",
       " 'defines': 0.002840909090909091,\n",
       " 'landscape': 0.008522727272727272,\n",
       " 'influencing': 0.005681818181818182,\n",
       " 'shaping': 0.005681818181818182,\n",
       " \"'s\": 0.002840909090909091,\n",
       " 'direction': 0.002840909090909091,\n",
       " 'Social': 0.002840909090909091,\n",
       " 'media': 0.002840909090909091,\n",
       " 'platforms': 0.002840909090909091,\n",
       " 'transformed': 0.002840909090909091,\n",
       " 'ordinary': 0.002840909090909091,\n",
       " 'individuals': 0.005681818181818182,\n",
       " 'influential': 0.002840909090909091,\n",
       " 'figures': 0.002840909090909091,\n",
       " 'Instagram': 0.002840909090909091,\n",
       " 'TikTok': 0.002840909090909091,\n",
       " 'YouTube': 0.002840909090909091,\n",
       " 'provide': 0.002840909090909091,\n",
       " 'platform': 0.002840909090909091,\n",
       " 'enthusiasts': 0.002840909090909091,\n",
       " 'share': 0.002840909090909091,\n",
       " 'consumer': 0.002840909090909091,\n",
       " 'Fashion': 0.002840909090909091,\n",
       " 'influencers': 0.002840909090909091,\n",
       " 'play': 0.002840909090909091,\n",
       " 'crucial': 0.005681818181818182,\n",
       " 'role': 0.002840909090909091,\n",
       " 'brand': 0.005681818181818182,\n",
       " 'promotion': 0.002840909090909091,\n",
       " 'trendsetting': 0.002840909090909091,\n",
       " 'leveraging': 0.002840909090909091,\n",
       " 'online': 0.002840909090909091,\n",
       " 'presence': 0.002840909090909091,\n",
       " 'redefine': 0.002840909090909091,\n",
       " 'dynamics': 0.002840909090909091,\n",
       " 'Clothing': 0.002840909090909091,\n",
       " 'powerful': 0.002840909090909091,\n",
       " 'form': 0.002840909090909091,\n",
       " 'self-expression': 0.005681818181818182,\n",
       " 'allowing': 0.002840909090909091,\n",
       " 'communicate': 0.002840909090909091,\n",
       " 'identity': 0.008522727272727272,\n",
       " 'values': 0.002840909090909091,\n",
       " 'personality': 0.002840909090909091,\n",
       " 'subcultures': 0.002840909090909091,\n",
       " 'high': 0.002840909090909091,\n",
       " 'way': 0.002840909090909091,\n",
       " 'people': 0.002840909090909091,\n",
       " 'dress': 0.002840909090909091,\n",
       " 'reflects': 0.002840909090909091,\n",
       " 'diverse': 0.011363636363636364,\n",
       " 'facets': 0.002840909090909091,\n",
       " 'embracing': 0.005681818181818182,\n",
       " 'inclusivity': 0.005681818181818182,\n",
       " 'celebrating': 0.002840909090909091,\n",
       " 'various': 0.002840909090909091,\n",
       " 'expressions': 0.005681818181818182,\n",
       " 'representative': 0.002840909090909091,\n",
       " 'campaigns': 0.002840909090909091,\n",
       " 'gender-neutral': 0.002840909090909091,\n",
       " 'designs': 0.002840909090909091,\n",
       " 'challenging': 0.002840909090909091,\n",
       " 'traditional': 0.002840909090909091,\n",
       " 'notions': 0.002840909090909091,\n",
       " 'creating': 0.002840909090909091,\n",
       " 'inclusive': 0.005681818181818182,\n",
       " 'collections': 0.002840909090909091,\n",
       " 'cater': 0.002840909090909091,\n",
       " 'range': 0.002840909090909091,\n",
       " 'identities': 0.002840909090909091,\n",
       " 'gender': 0.002840909090909091,\n",
       " 'neutrality': 0.002840909090909091,\n",
       " 'fluid': 0.002840909090909091,\n",
       " 'approach': 0.002840909090909091,\n",
       " 'breaking': 0.002840909090909091,\n",
       " 'stereotypes': 0.002840909090909091,\n",
       " 'without': 0.002840909090909091,\n",
       " 'limitations': 0.002840909090909091,\n",
       " 'Haute': 0.002840909090909091,\n",
       " 'couture': 0.005681818181818182,\n",
       " 'represents': 0.002840909090909091,\n",
       " 'pinnacle': 0.002840909090909091,\n",
       " 'craftsmanship': 0.002840909090909091,\n",
       " 'one-of-a-kind': 0.002840909090909091,\n",
       " 'meticulously': 0.002840909090909091,\n",
       " 'crafted': 0.002840909090909091,\n",
       " 'skilled': 0.002840909090909091,\n",
       " 'artisans': 0.002840909090909091,\n",
       " 'artistry': 0.002840909090909091,\n",
       " 'luxury': 0.002840909090909091,\n",
       " 'houses': 0.002840909090909091,\n",
       " 'collection': 0.002840909090909091,\n",
       " 'testament': 0.002840909090909091,\n",
       " 'fusion': 0.002840909090909091,\n",
       " 'fine': 0.002840909090909091,\n",
       " 'pushing': 0.002840909090909091,\n",
       " 'boundaries': 0.002840909090909091,\n",
       " 'design': 0.002840909090909091,\n",
       " 'broader': 0.002840909090909091,\n",
       " 'fast': 0.002840909090909091,\n",
       " 'model': 0.002840909090909091,\n",
       " 'characterized': 0.002840909090909091,\n",
       " 'rapid': 0.002840909090909091,\n",
       " 'quick': 0.002840909090909091,\n",
       " 'turnover': 0.002840909090909091,\n",
       " 'contributes': 0.002840909090909091,\n",
       " 'environmental': 0.002840909090909091,\n",
       " 'degradation': 0.002840909090909091,\n",
       " 'facing': 0.002840909090909091,\n",
       " 'scrutiny': 0.002840909090909091,\n",
       " 'prompting': 0.002840909090909091,\n",
       " 'Consumers': 0.002840909090909091,\n",
       " 'becoming': 0.005681818181818182,\n",
       " 'aware': 0.002840909090909091,\n",
       " 'ecological': 0.002840909090909091,\n",
       " 'footprint': 0.002840909090909091,\n",
       " 'demanding': 0.002840909090909091,\n",
       " 'transparency': 0.002840909090909091,\n",
       " 'responsible': 0.002840909090909091,\n",
       " 'brands': 0.002840909090909091,\n",
       " 'grapples': 0.002840909090909091,\n",
       " 'issues': 0.002840909090909091,\n",
       " 'cultural': 0.011363636363636364,\n",
       " 'appropriation': 0.005681818181818182,\n",
       " 'incorporate': 0.002840909090909091,\n",
       " 'elements': 0.002840909090909091,\n",
       " 'cultures': 0.002840909090909091,\n",
       " 'debate': 0.002840909090909091,\n",
       " 'highlights': 0.002840909090909091,\n",
       " 'importance': 0.002840909090909091,\n",
       " 'sensitivity': 0.002840909090909091,\n",
       " 'respect': 0.002840909090909091,\n",
       " 'within': 0.005681818181818182,\n",
       " 'Recognizing': 0.002840909090909091,\n",
       " 'addressing': 0.002840909090909091,\n",
       " 'instances': 0.002840909090909091,\n",
       " 'fostering': 0.002840909090909091,\n",
       " 'preventing': 0.002840909090909091,\n",
       " 'commodification': 0.002840909090909091,\n",
       " 'heritage': 0.002840909090909091,\n",
       " 'smart': 0.002840909090909091,\n",
       " 'virtual': 0.005681818181818182,\n",
       " 'shows': 0.002840909090909091,\n",
       " 'technology': 0.005681818181818182,\n",
       " 'reshaping': 0.002840909090909091,\n",
       " 'Wearable': 0.002840909090909091,\n",
       " 'tech': 0.002840909090909091,\n",
       " 'augmented': 0.002840909090909091,\n",
       " 'reality': 0.002840909090909091,\n",
       " 'fitting': 0.002840909090909091,\n",
       " 'rooms': 0.002840909090909091,\n",
       " 'integral': 0.002840909090909091,\n",
       " 'modern': 0.002840909090909091,\n",
       " 'experience': 0.002840909090909091,\n",
       " 'synergy': 0.002840909090909091,\n",
       " 'opens': 0.002840909090909091,\n",
       " 'possibilities': 0.002840909090909091,\n",
       " 'customization': 0.002840909090909091,\n",
       " 'interactivity': 0.002840909090909091,\n",
       " 'immersive': 0.002840909090909091,\n",
       " 'experiences': 0.002840909090909091,\n",
       " 'marking': 0.002840909090909091,\n",
       " 'transformative': 0.002840909090909091,\n",
       " 'era': 0.002840909090909091}"
      ]
     },
     "execution_count": 76,
     "metadata": {},
     "output_type": "execute_result"
    }
   ],
   "source": [
    "def calculateTF(token):\n",
    "    term_freq = {}\n",
    "    for word in token:\n",
    "        if word not in term_freq:\n",
    "            term_freq[word] = token.count(word) / len(token)\n",
    "\n",
    "    return term_freq\n",
    "\n",
    "calculateTF(all_tokens)"
   ]
  },
  {
   "cell_type": "markdown",
   "id": "854669e0",
   "metadata": {},
   "source": [
    "TF = (Number of times the term appears in the document) / (Total number of terms in the document)\n",
    "\n",
    "IDF = log((Total number of docs) / (Number of docs that contain the term))"
   ]
  },
  {
   "cell_type": "code",
   "execution_count": 80,
   "id": "55baa796",
   "metadata": {},
   "outputs": [],
   "source": [
    "inverse_doc_frequency = {}\n",
    "\n",
    "for w in all_tokens:\n",
    "    tot_docs_having_w = 0\n",
    "    \n",
    "    for file in os.listdir():\n",
    "        if file.endswith(\".txt\"):\n",
    "            file_path = os.path.join(script_directory, file)\n",
    "            with open(file_path, 'r') as f: \n",
    "                word = f.read()\n",
    "                if w in nltk.word_tokenize(word):\n",
    "                    tot_docs_having_w += 1\n",
    "                    \n",
    "    inverse_doc_frequency[w] =  np.log10(10 / tot_docs_having_w)"
   ]
  },
  {
   "cell_type": "code",
   "execution_count": 81,
   "id": "104a1440",
   "metadata": {},
   "outputs": [
    {
     "name": "stdout",
     "output_type": "stream",
     "text": [
      "{'Sustainable': 1.0, 'fashion': 0.0, 'gaining': 1.0, 'momentum': 1.0, 'consumers': 1.0, 'prioritize': 1.0, 'eco-friendly': 1.0, 'choices': 0.3979400086720376, 'ethically': 1.0, 'sourced': 1.0, 'materials': 1.0, 'fair': 1.0, 'labor': 1.0, 'practices': 0.6989700043360189, 'industry': 0.04575749056067514, 'adapting': 1.0, 'meet': 1.0, 'demand': 1.0, 'environmentally': 1.0, 'conscious': 1.0, 'clothing': 0.5228787452803376, 'Designers': 0.6989700043360189, 'increasingly': 0.5228787452803376, 'incorporating': 1.0, 'recycled': 1.0, 'fabrics': 0.6989700043360189, 'sustainable': 0.5228787452803376, 'production': 0.6989700043360189, 'methods': 0.6989700043360189, 'setting': 0.6989700043360189, 'new': 0.6989700043360189, 'standard': 1.0, 'ethical': 0.6989700043360189, 'Vintage': 1.0, 'continues': 1.0, 'inspire': 1.0, 'contemporary': 1.0, 'styles': 0.6989700043360189, 'iconic': 0.6989700043360189, 'looks': 1.0, 'past': 1.0, 'decades': 1.0, 'making': 1.0, 'comebacks': 1.0, 'Thrifting': 1.0, 'upcycling': 1.0, 'contribute': 1.0, 'popularity': 1.0, 'vintage': 1.0, 'Embracing': 1.0, 'pieces': 0.6989700043360189, 'adds': 1.0, 'unique': 1.0, 'flair': 1.0, 'personal': 1.0, 'style': 0.6989700043360189, 'also': 1.0, 'promotes': 0.6989700043360189, 'circular': 1.0, 'economy': 1.0, 'encouraging': 0.6989700043360189, 'shift': 0.5228787452803376, 'towards': 0.5228787452803376, 'mindful': 1.0, 'timeless': 1.0, 'Paris': 1.0, 'Milan': 1.0, 'London': 1.0, 'New': 1.0, 'York': 1.0, 'renowned': 1.0, 'capitals': 1.0, 'hosting': 1.0, 'weeks': 1.0, 'set': 1.0, 'global': 0.6989700043360189, 'trends': 0.3979400086720376, 'events': 1.0, 'showcase': 0.6989700043360189, 'creativity': 0.6989700043360189, 'innovation': 0.6989700043360189, 'designers': 0.6989700043360189, 'around': 1.0, 'world': 0.6989700043360189, 'intersection': 1.0, 'culture': 1.0, 'art': 0.6989700043360189, 'commerce': 1.0, 'cities': 1.0, 'defines': 1.0, 'landscape': 0.5228787452803376, 'influencing': 0.6989700043360189, 'shaping': 0.6989700043360189, \"'s\": 1.0, 'direction': 1.0, 'Social': 1.0, 'media': 1.0, 'platforms': 1.0, 'transformed': 1.0, 'ordinary': 1.0, 'individuals': 0.6989700043360189, 'influential': 1.0, 'figures': 1.0, 'Instagram': 1.0, 'TikTok': 1.0, 'YouTube': 1.0, 'provide': 1.0, 'platform': 1.0, 'enthusiasts': 1.0, 'share': 1.0, 'consumer': 1.0, 'Fashion': 1.0, 'influencers': 1.0, 'play': 1.0, 'crucial': 0.6989700043360189, 'role': 1.0, 'brand': 0.6989700043360189, 'promotion': 1.0, 'trendsetting': 1.0, 'leveraging': 1.0, 'online': 1.0, 'presence': 1.0, 'redefine': 1.0, 'dynamics': 1.0, 'Clothing': 1.0, 'powerful': 1.0, 'form': 1.0, 'self-expression': 0.6989700043360189, 'allowing': 1.0, 'communicate': 1.0, 'identity': 1.0, 'values': 1.0, 'personality': 1.0, 'subcultures': 1.0, 'high': 1.0, 'way': 1.0, 'people': 1.0, 'dress': 1.0, 'reflects': 1.0, 'diverse': 0.5228787452803376, 'facets': 1.0, 'embracing': 0.6989700043360189, 'inclusivity': 0.6989700043360189, 'celebrating': 1.0, 'various': 1.0, 'expressions': 0.6989700043360189, 'representative': 1.0, 'campaigns': 1.0, 'gender-neutral': 1.0, 'designs': 1.0, 'challenging': 1.0, 'traditional': 1.0, 'notions': 1.0, 'creating': 1.0, 'inclusive': 1.0, 'collections': 1.0, 'cater': 1.0, 'range': 1.0, 'identities': 1.0, 'gender': 1.0, 'neutrality': 1.0, 'fluid': 1.0, 'approach': 1.0, 'breaking': 1.0, 'stereotypes': 1.0, 'without': 1.0, 'limitations': 1.0, 'Haute': 1.0, 'couture': 1.0, 'represents': 1.0, 'pinnacle': 1.0, 'craftsmanship': 1.0, 'one-of-a-kind': 1.0, 'meticulously': 1.0, 'crafted': 1.0, 'skilled': 1.0, 'artisans': 1.0, 'artistry': 1.0, 'luxury': 1.0, 'houses': 1.0, 'collection': 1.0, 'testament': 1.0, 'fusion': 1.0, 'fine': 1.0, 'pushing': 1.0, 'boundaries': 1.0, 'design': 1.0, 'broader': 1.0, 'fast': 1.0, 'model': 1.0, 'characterized': 1.0, 'rapid': 1.0, 'quick': 1.0, 'turnover': 1.0, 'contributes': 1.0, 'environmental': 1.0, 'degradation': 1.0, 'facing': 1.0, 'scrutiny': 1.0, 'prompting': 1.0, 'Consumers': 1.0, 'becoming': 0.6989700043360189, 'aware': 1.0, 'ecological': 1.0, 'footprint': 1.0, 'demanding': 1.0, 'transparency': 1.0, 'responsible': 1.0, 'brands': 1.0, 'grapples': 1.0, 'issues': 1.0, 'cultural': 1.0, 'appropriation': 1.0, 'incorporate': 1.0, 'elements': 1.0, 'cultures': 1.0, 'debate': 1.0, 'highlights': 1.0, 'importance': 1.0, 'sensitivity': 1.0, 'respect': 1.0, 'within': 1.0, 'Recognizing': 1.0, 'addressing': 1.0, 'instances': 1.0, 'fostering': 1.0, 'preventing': 1.0, 'commodification': 1.0, 'heritage': 1.0, 'smart': 1.0, 'virtual': 1.0, 'shows': 1.0, 'technology': 1.0, 'reshaping': 1.0, 'Wearable': 1.0, 'tech': 1.0, 'augmented': 1.0, 'reality': 1.0, 'fitting': 1.0, 'rooms': 1.0, 'integral': 1.0, 'modern': 1.0, 'experience': 1.0, 'synergy': 1.0, 'opens': 1.0, 'possibilities': 1.0, 'customization': 1.0, 'interactivity': 1.0, 'immersive': 1.0, 'experiences': 1.0, 'marking': 1.0, 'transformative': 1.0, 'era': 1.0}\n"
     ]
    }
   ],
   "source": [
    "print(inverse_doc_frequency)"
   ]
  },
  {
   "cell_type": "markdown",
   "id": "9b06f67b",
   "metadata": {},
   "source": [
    "1. IDF value of 0: This typically occurs when a term (word) is present in all documents within the corpus. In such cases, the IDF value is set to 0 to prevent division by zero when calculating the TF-IDF score. A term with an IDF value of 0 indicates that it is not discriminative or distinctive across documents and therefore may not contribute much to distinguishing documents.\n",
    "2. IDF value of 1: This happens when the term appears in only one document in the corpus. In this case, the IDF value is often adjusted to 1 to indicate that the term is relatively rare but still present in the corpus. However, it doesn't provide significant discriminative power compared to terms with higher IDF values.\n",
    "3. Other IDF values: Terms with IDF values other than 0 or 1 indicate their rarity or uniqueness within the corpus. Higher IDF values indicate that the term is rare across documents and therefore potentially more discriminative. Terms with higher IDF values contribute more to the TF-IDF score and are considered more important in distinguishing documents.\n"
   ]
  },
  {
   "cell_type": "markdown",
   "id": "609faa14",
   "metadata": {},
   "source": [
    "TF-IDF (Term Frequency-Inverse Document Frequency) is a numerical measure that indicates the importance of a word in a document taking into account how frequent the word is in other documents in the same corpus. It consists of multiplying the term frequency (TF) by the inverse document frequency (IDF), which is the logarithm of the total number of documents divided by the number of documents containing the term. "
   ]
  }
 ],
 "metadata": {
  "kernelspec": {
   "display_name": "Python 3",
   "language": "python",
   "name": "python3"
  },
  "language_info": {
   "codemirror_mode": {
    "name": "ipython",
    "version": 3
   },
   "file_extension": ".py",
   "mimetype": "text/x-python",
   "name": "python",
   "nbconvert_exporter": "python",
   "pygments_lexer": "ipython3",
   "version": "3.11.1"
  }
 },
 "nbformat": 4,
 "nbformat_minor": 5
}
