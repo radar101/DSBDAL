{
 "cells": [
  {
   "cell_type": "code",
   "execution_count": 36,
   "id": "c7eb1538-ea90-4b7e-a9e4-c3a1b9e76cfa",
   "metadata": {},
   "outputs": [
    {
     "name": "stderr",
     "output_type": "stream",
     "text": [
      "[nltk_data] Downloading package punkt to C:\\Users\\Darshan\n",
      "[nltk_data]     Mahajan\\AppData\\Roaming\\nltk_data...\n",
      "[nltk_data]   Package punkt is already up-to-date!\n"
     ]
    },
    {
     "data": {
      "text/plain": [
       "True"
      ]
     },
     "execution_count": 36,
     "metadata": {},
     "output_type": "execute_result"
    }
   ],
   "source": [
    "import nltk\n",
    "import os\n",
    "nltk.download('punkt')"
   ]
  },
  {
   "cell_type": "code",
   "execution_count": 37,
   "id": "27cc01a8-8a1a-4c9a-bd82-9db99acb2e66",
   "metadata": {},
   "outputs": [],
   "source": [
    "script_directory = os.getcwd()\n",
    "os.chdir(script_directory)"
   ]
  },
  {
   "cell_type": "code",
   "execution_count": 38,
   "id": "827fd1ef-a81a-444a-82c2-83a471523a54",
   "metadata": {},
   "outputs": [],
   "source": [
    "all_tokens = []"
   ]
  },
  {
   "cell_type": "code",
   "execution_count": 39,
   "id": "2fdaa3a0-f598-4879-9ab7-b058a64bffc1",
   "metadata": {},
   "outputs": [],
   "source": [
    "def read_text_file(file_path): \n",
    "    with open(file_path, 'r') as f: \n",
    "        word = f.read()\n",
    "        temp = nltk.word_tokenize(word)\n",
    "        all_tokens.extend(temp)"
   ]
  },
  {
   "cell_type": "code",
   "execution_count": 40,
   "id": "0990177d-1b32-4fb4-b461-3f6af4464599",
   "metadata": {},
   "outputs": [],
   "source": [
    "for file in os.listdir():\n",
    "    if file.endswith(\".txt\"):\n",
    "        file_path = os.path.join(script_directory, file)\n",
    "        read_text_file(file_path)"
   ]
  },
  {
   "cell_type": "code",
   "execution_count": 41,
   "id": "0431fbef-6069-4364-a84e-cea9a0a035e3",
   "metadata": {},
   "outputs": [],
   "source": [
    "import numpy as np"
   ]
  },
  {
   "cell_type": "code",
   "execution_count": 42,
   "id": "dcc300a8-fef0-460c-9964-9f1edaadccf5",
   "metadata": {},
   "outputs": [],
   "source": [
    "def clean_list(tokens):\n",
    "    characters_to_remove = [',', '.', ' ']\n",
    "    for token in tokens:\n",
    "        if token in characters_to_remove:\n",
    "            tokens.remove(token)    "
   ]
  },
  {
   "cell_type": "code",
   "execution_count": 43,
   "id": "34a43852-fe9e-4ab1-9193-d36e033172ac",
   "metadata": {},
   "outputs": [],
   "source": [
    "clean_list(all_tokens)"
   ]
  },
  {
   "cell_type": "code",
   "execution_count": 44,
   "id": "469533dd",
   "metadata": {},
   "outputs": [
    {
     "name": "stderr",
     "output_type": "stream",
     "text": [
      "[nltk_data] Downloading package stopwords to C:\\Users\\Darshan\n",
      "[nltk_data]     Mahajan\\AppData\\Roaming\\nltk_data...\n",
      "[nltk_data]   Package stopwords is already up-to-date!\n"
     ]
    }
   ],
   "source": [
    "nltk.download(\"stopwords\")\n",
    "from nltk.corpus import stopwords\n"
   ]
  },
  {
   "cell_type": "markdown",
   "id": "b60ca840",
   "metadata": {},
   "source": [
    "Stop words are words that you want to ignore, so you filter them out of your text when you’re processing it. Very common words like 'in', 'is', and 'an' are often used as stop words since they don’t add a lot of meaning to a text in and of themselves."
   ]
  },
  {
   "cell_type": "code",
   "execution_count": 45,
   "id": "e9ad99b2",
   "metadata": {},
   "outputs": [],
   "source": [
    "\n",
    "\n",
    "stop_words = set(stopwords.words(\"english\"))\n",
    "filtered_list = []\n",
    "for word in all_tokens:\n",
    "    if word.casefold() not in stop_words:\n",
    "         filtered_list.append(word)\n",
    "\n",
    "all_tokens = filtered_list\n"
   ]
  },
  {
   "cell_type": "code",
   "execution_count": 46,
   "id": "018561a8-7db1-49c9-baa6-0f0e86ca8a61",
   "metadata": {},
   "outputs": [
    {
     "name": "stderr",
     "output_type": "stream",
     "text": [
      "[nltk_data] Downloading package averaged_perceptron_tagger to\n",
      "[nltk_data]     C:\\Users\\Darshan Mahajan\\AppData\\Roaming\\nltk_data...\n",
      "[nltk_data]   Package averaged_perceptron_tagger is already up-to-\n",
      "[nltk_data]       date!\n"
     ]
    },
    {
     "data": {
      "text/plain": [
       "True"
      ]
     },
     "execution_count": 46,
     "metadata": {},
     "output_type": "execute_result"
    }
   ],
   "source": [
    "nltk.download('averaged_perceptron_tagger')"
   ]
  },
  {
   "cell_type": "markdown",
   "id": "9b016296",
   "metadata": {},
   "source": [
    "Part of speech is a grammatical term that deals with the roles words play when you use them together in sentences. \n",
    "Tagging parts of speech, or POS tagging, is the task of labeling the words in your text according to their part of speech."
   ]
  },
  {
   "cell_type": "code",
   "execution_count": 47,
   "id": "9e948919-e39e-46aa-9203-4aa52cbf0ce0",
   "metadata": {},
   "outputs": [
    {
     "data": {
      "text/plain": [
       "[('Sustainable', 'JJ'),\n",
       " ('fashion', 'NN'),\n",
       " ('gaining', 'VBG'),\n",
       " ('momentum', 'NN'),\n",
       " ('consumers', 'NNS'),\n",
       " ('prioritize', 'VBP'),\n",
       " ('eco-friendly', 'JJ'),\n",
       " ('choices', 'NNS'),\n",
       " ('ethically', 'RB'),\n",
       " ('sourced', 'VBD'),\n",
       " ('materials', 'NNS'),\n",
       " ('fair', 'JJ'),\n",
       " ('labor', 'NN'),\n",
       " ('practices', 'NNS'),\n",
       " ('industry', 'NN'),\n",
       " ('adapting', 'VBG'),\n",
       " ('meet', 'JJ'),\n",
       " ('demand', 'NN'),\n",
       " ('environmentally', 'RB'),\n",
       " ('conscious', 'JJ'),\n",
       " ('clothing', 'NN'),\n",
       " ('Designers', 'NNP'),\n",
       " ('increasingly', 'RB'),\n",
       " ('incorporating', 'VBG'),\n",
       " ('recycled', 'VBN'),\n",
       " ('fabrics', 'NNS'),\n",
       " ('sustainable', 'JJ'),\n",
       " ('production', 'NN'),\n",
       " ('methods', 'NNS'),\n",
       " ('setting', 'VBG'),\n",
       " ('new', 'JJ'),\n",
       " ('standard', 'JJ'),\n",
       " ('ethical', 'JJ'),\n",
       " ('fashion', 'NN'),\n",
       " ('Vintage', 'NNP'),\n",
       " ('fashion', 'NN'),\n",
       " ('continues', 'VBZ'),\n",
       " ('inspire', 'JJ'),\n",
       " ('contemporary', 'JJ'),\n",
       " ('styles', 'NNS'),\n",
       " ('iconic', 'JJ'),\n",
       " ('looks', 'NNS'),\n",
       " ('past', 'JJ'),\n",
       " ('decades', 'NNS'),\n",
       " ('making', 'VBG'),\n",
       " ('comebacks', 'NNS'),\n",
       " ('Thrifting', 'VBG'),\n",
       " ('upcycling', 'VBG'),\n",
       " ('contribute', 'JJ'),\n",
       " ('popularity', 'NN'),\n",
       " ('sustainable', 'JJ'),\n",
       " ('vintage', 'NN'),\n",
       " ('fashion', 'NN'),\n",
       " ('Embracing', 'NNP'),\n",
       " ('vintage', 'NN'),\n",
       " ('pieces', 'NNS'),\n",
       " ('adds', 'VBZ'),\n",
       " ('unique', 'JJ'),\n",
       " ('flair', 'JJ'),\n",
       " ('personal', 'JJ'),\n",
       " ('style', 'NN'),\n",
       " ('also', 'RB'),\n",
       " ('promotes', 'VBZ'),\n",
       " ('circular', 'JJ'),\n",
       " ('economy', 'NN'),\n",
       " ('encouraging', 'VBG'),\n",
       " ('shift', 'JJ'),\n",
       " ('towards', 'NNS'),\n",
       " ('mindful', 'JJ'),\n",
       " ('timeless', 'JJ'),\n",
       " ('fashion', 'NN'),\n",
       " ('choices', 'NNS'),\n",
       " ('Paris', 'NNP'),\n",
       " ('Milan', 'NNP'),\n",
       " ('London', 'NNP'),\n",
       " ('New', 'NNP'),\n",
       " ('York', 'NNP'),\n",
       " ('renowned', 'JJ'),\n",
       " ('fashion', 'NN'),\n",
       " ('capitals', 'NNS'),\n",
       " ('hosting', 'VBG'),\n",
       " ('iconic', 'JJ'),\n",
       " ('fashion', 'NN'),\n",
       " ('weeks', 'NNS'),\n",
       " ('set', 'VBD'),\n",
       " ('global', 'JJ'),\n",
       " ('trends', 'NNS'),\n",
       " ('events', 'NNS'),\n",
       " ('showcase', 'JJ'),\n",
       " ('creativity', 'NN'),\n",
       " ('innovation', 'NN'),\n",
       " ('designers', 'NNS'),\n",
       " ('around', 'IN'),\n",
       " ('world', 'NN'),\n",
       " ('intersection', 'NN'),\n",
       " ('culture', 'NN'),\n",
       " ('art', 'NN'),\n",
       " ('commerce', 'NN'),\n",
       " ('cities', 'NNS'),\n",
       " ('defines', 'VBZ'),\n",
       " ('fashion', 'NN'),\n",
       " ('landscape', 'NN'),\n",
       " ('influencing', 'VBG'),\n",
       " ('styles', 'NNS'),\n",
       " ('shaping', 'VBG'),\n",
       " ('industry', 'NN'),\n",
       " (\"'s\", 'POS'),\n",
       " ('direction', 'NN'),\n",
       " ('Social', 'NNP'),\n",
       " ('media', 'NNS'),\n",
       " ('platforms', 'NNS'),\n",
       " ('transformed', 'VBD'),\n",
       " ('ordinary', 'JJ'),\n",
       " ('individuals', 'NNS'),\n",
       " ('influential', 'JJ'),\n",
       " ('fashion', 'NN'),\n",
       " ('figures', 'NNS'),\n",
       " ('Instagram', 'NNP'),\n",
       " ('TikTok', 'NNP'),\n",
       " ('YouTube', 'NNP'),\n",
       " ('provide', 'VBP'),\n",
       " ('platform', 'NN'),\n",
       " ('fashion', 'NN'),\n",
       " ('enthusiasts', 'NNS'),\n",
       " ('share', 'NN'),\n",
       " ('style', 'NN'),\n",
       " ('influencing', 'VBG'),\n",
       " ('trends', 'NNS'),\n",
       " ('shaping', 'VBG'),\n",
       " ('consumer', 'NN'),\n",
       " ('choices', 'NNS'),\n",
       " ('Fashion', 'NNP'),\n",
       " ('influencers', 'NNS'),\n",
       " ('play', 'VBP'),\n",
       " ('crucial', 'JJ'),\n",
       " ('role', 'NN'),\n",
       " ('brand', 'NN'),\n",
       " ('promotion', 'NN'),\n",
       " ('trendsetting', 'VBG'),\n",
       " ('leveraging', 'VBG'),\n",
       " ('online', 'JJ'),\n",
       " ('presence', 'NN'),\n",
       " ('redefine', 'NN'),\n",
       " ('dynamics', 'NNS'),\n",
       " ('fashion', 'NN'),\n",
       " ('industry', 'NN'),\n",
       " ('Clothing', 'NNP'),\n",
       " ('powerful', 'JJ'),\n",
       " ('form', 'JJ'),\n",
       " ('self-expression', 'NN'),\n",
       " ('allowing', 'VBG'),\n",
       " ('individuals', 'NNS'),\n",
       " ('communicate', 'VBP'),\n",
       " ('identity', 'NN'),\n",
       " ('values', 'NNS'),\n",
       " ('personality', 'NN'),\n",
       " ('subcultures', 'VBZ'),\n",
       " ('high', 'JJ'),\n",
       " ('fashion', 'NN'),\n",
       " ('way', 'NN'),\n",
       " ('people', 'NNS'),\n",
       " ('dress', 'VBP'),\n",
       " ('reflects', 'VBZ'),\n",
       " ('diverse', 'JJ'),\n",
       " ('facets', 'NNS'),\n",
       " ('identity', 'JJ'),\n",
       " ('fashion', 'NN'),\n",
       " ('industry', 'NN'),\n",
       " ('increasingly', 'RB'),\n",
       " ('embracing', 'VBG'),\n",
       " ('inclusivity', 'NN'),\n",
       " ('celebrating', 'VBG'),\n",
       " ('various', 'JJ'),\n",
       " ('expressions', 'NNS'),\n",
       " ('identity', 'NN'),\n",
       " ('diverse', 'VBP'),\n",
       " ('representative', 'JJ'),\n",
       " ('campaigns', 'NNS'),\n",
       " ('fashion', 'NN'),\n",
       " ('industry', 'NN'),\n",
       " ('increasingly', 'RB'),\n",
       " ('embracing', 'VBG'),\n",
       " ('gender-neutral', 'JJ'),\n",
       " ('designs', 'NNS'),\n",
       " ('challenging', 'VBG'),\n",
       " ('traditional', 'JJ'),\n",
       " ('notions', 'NNS'),\n",
       " ('clothing', 'VBG'),\n",
       " ('Designers', 'NNS'),\n",
       " ('creating', 'VBG'),\n",
       " ('inclusive', 'JJ'),\n",
       " ('collections', 'NNS'),\n",
       " ('cater', 'VBP'),\n",
       " ('diverse', 'JJ'),\n",
       " ('range', 'NN'),\n",
       " ('identities', 'NNS'),\n",
       " ('expressions', 'NNS'),\n",
       " ('shift', 'VBP'),\n",
       " ('towards', 'NNS'),\n",
       " ('gender', 'VBP'),\n",
       " ('neutrality', 'NN'),\n",
       " ('promotes', 'NNS'),\n",
       " ('inclusive', 'JJ'),\n",
       " ('fluid', 'JJ'),\n",
       " ('approach', 'NN'),\n",
       " ('fashion', 'NN'),\n",
       " ('breaking', 'VBG'),\n",
       " ('stereotypes', 'NNS'),\n",
       " ('encouraging', 'VBG'),\n",
       " ('self-expression', 'NN'),\n",
       " ('without', 'IN'),\n",
       " ('limitations', 'NNS'),\n",
       " ('Haute', 'NNP'),\n",
       " ('couture', 'NN'),\n",
       " ('represents', 'VBZ'),\n",
       " ('pinnacle', 'NN'),\n",
       " ('craftsmanship', 'NN'),\n",
       " ('creativity', 'NN'),\n",
       " ('fashion', 'NN'),\n",
       " ('one-of-a-kind', 'JJ'),\n",
       " ('pieces', 'NNS'),\n",
       " ('meticulously', 'RB'),\n",
       " ('crafted', 'VBD'),\n",
       " ('skilled', 'JJ'),\n",
       " ('artisans', 'NNS'),\n",
       " ('showcase', 'JJ'),\n",
       " ('artistry', 'NN'),\n",
       " ('innovation', 'NN'),\n",
       " ('luxury', 'NN'),\n",
       " ('fashion', 'NN'),\n",
       " ('houses', 'NNS'),\n",
       " ('couture', 'VBP'),\n",
       " ('collection', 'NN'),\n",
       " ('testament', 'NN'),\n",
       " ('fusion', 'NN'),\n",
       " ('fashion', 'NN'),\n",
       " ('fine', 'JJ'),\n",
       " ('art', 'NN'),\n",
       " ('pushing', 'VBG'),\n",
       " ('boundaries', 'NNS'),\n",
       " ('design', 'NN'),\n",
       " ('setting', 'VBG'),\n",
       " ('trends', 'NNS'),\n",
       " ('broader', 'RBR'),\n",
       " ('industry', 'NN'),\n",
       " ('fast', 'JJ'),\n",
       " ('fashion', 'NN'),\n",
       " ('model', 'NN'),\n",
       " ('characterized', 'VBD'),\n",
       " ('rapid', 'JJ'),\n",
       " ('production', 'NN'),\n",
       " ('quick', 'JJ'),\n",
       " ('turnover', 'NN'),\n",
       " ('trends', 'NNS'),\n",
       " ('contributes', 'VBZ'),\n",
       " ('environmental', 'JJ'),\n",
       " ('degradation', 'NN'),\n",
       " ('industry', 'NN'),\n",
       " ('facing', 'VBG'),\n",
       " ('scrutiny', 'JJ'),\n",
       " ('prompting', 'VBG'),\n",
       " ('shift', 'NN'),\n",
       " ('towards', 'NNS'),\n",
       " ('sustainable', 'JJ'),\n",
       " ('ethical', 'JJ'),\n",
       " ('practices', 'NNS'),\n",
       " ('Consumers', 'NNPS'),\n",
       " ('becoming', 'VBG'),\n",
       " ('aware', 'JJ'),\n",
       " ('ecological', 'JJ'),\n",
       " ('footprint', 'NN'),\n",
       " ('clothing', 'NN'),\n",
       " ('choices', 'NNS'),\n",
       " ('demanding', 'VBG'),\n",
       " ('transparency', 'NN'),\n",
       " ('responsible', 'JJ'),\n",
       " ('production', 'NN'),\n",
       " ('methods', 'NNS'),\n",
       " ('fashion', 'NN'),\n",
       " ('brands', 'NNS'),\n",
       " ('fashion', 'NN'),\n",
       " ('industry', 'NN'),\n",
       " ('grapples', 'VBZ'),\n",
       " ('issues', 'NNS'),\n",
       " ('cultural', 'JJ'),\n",
       " ('appropriation', 'NN'),\n",
       " ('designers', 'NNS'),\n",
       " ('incorporate', 'VBP'),\n",
       " ('elements', 'NNS'),\n",
       " ('diverse', 'JJ'),\n",
       " ('cultures', 'NNS'),\n",
       " ('debate', 'VBP'),\n",
       " ('highlights', 'NNS'),\n",
       " ('importance', 'NN'),\n",
       " ('cultural', 'JJ'),\n",
       " ('sensitivity', 'NN'),\n",
       " ('respect', 'NN'),\n",
       " ('within', 'IN'),\n",
       " ('fashion', 'NN'),\n",
       " ('world', 'NN'),\n",
       " ('Recognizing', 'VBG'),\n",
       " ('addressing', 'VBG'),\n",
       " ('instances', 'NNS'),\n",
       " ('cultural', 'JJ'),\n",
       " ('appropriation', 'NN'),\n",
       " ('crucial', 'JJ'),\n",
       " ('fostering', 'NN'),\n",
       " ('inclusivity', 'NN'),\n",
       " ('preventing', 'VBG'),\n",
       " ('commodification', 'NN'),\n",
       " ('cultural', 'JJ'),\n",
       " ('heritage', 'NN'),\n",
       " ('within', 'IN'),\n",
       " ('global', 'JJ'),\n",
       " ('fashion', 'NN'),\n",
       " ('landscape', 'NN'),\n",
       " ('smart', 'JJ'),\n",
       " ('fabrics', 'NNS'),\n",
       " ('virtual', 'JJ'),\n",
       " ('fashion', 'NN'),\n",
       " ('shows', 'NNS'),\n",
       " ('technology', 'NN'),\n",
       " ('reshaping', 'VBG'),\n",
       " ('fashion', 'NN'),\n",
       " ('landscape', 'NN'),\n",
       " ('Wearable', 'JJ'),\n",
       " ('tech', 'NN'),\n",
       " ('augmented', 'VBD'),\n",
       " ('reality', 'NN'),\n",
       " ('virtual', 'JJ'),\n",
       " ('fitting', 'NN'),\n",
       " ('rooms', 'NNS'),\n",
       " ('becoming', 'VBG'),\n",
       " ('integral', 'JJ'),\n",
       " ('modern', 'JJ'),\n",
       " ('fashion', 'NN'),\n",
       " ('experience', 'NN'),\n",
       " ('synergy', 'JJ'),\n",
       " ('fashion', 'NN'),\n",
       " ('technology', 'NN'),\n",
       " ('opens', 'VBZ'),\n",
       " ('new', 'JJ'),\n",
       " ('possibilities', 'NNS'),\n",
       " ('customization', 'VBP'),\n",
       " ('interactivity', 'NN'),\n",
       " ('immersive', 'JJ'),\n",
       " ('brand', 'NN'),\n",
       " ('experiences', 'NNS'),\n",
       " ('marking', 'VBG'),\n",
       " ('transformative', 'JJ'),\n",
       " ('era', 'NN'),\n",
       " ('industry', 'NN')]"
      ]
     },
     "execution_count": 47,
     "metadata": {},
     "output_type": "execute_result"
    }
   ],
   "source": [
    "pos = nltk.pos_tag(all_tokens)\n",
    "pos"
   ]
  },
  {
   "cell_type": "markdown",
   "id": "f7663144",
   "metadata": {},
   "source": [
    "Tags    Deal with\n",
    "JJ      Adjectives\n",
    "NN      Nouns\n",
    "RB\t    Adverbs\n",
    "PRP\t    Pronouns\n",
    "VB\t    Verbs"
   ]
  },
  {
   "cell_type": "code",
   "execution_count": 48,
   "id": "82b48b67-3cf8-4c46-ae3c-dda1d79bbcfb",
   "metadata": {},
   "outputs": [],
   "source": [
    "from nltk.stem import PorterStemmer"
   ]
  },
  {
   "cell_type": "markdown",
   "id": "fac981be",
   "metadata": {},
   "source": [
    "Stemming is a text processing task in which you reduce words to their root, which is the core part of a word. For example, the words “helping” and “helper” share the root “help.” Stemming allows you to zero in on the basic meaning of a word rather than all the details of how it’s being used. NLTK has more than one stemmer, but you’ll be using the Porter stemmer."
   ]
  },
  {
   "cell_type": "code",
   "execution_count": 49,
   "id": "4ede0efa-0228-431e-81b6-e7b3dcd89c0d",
   "metadata": {},
   "outputs": [],
   "source": [
    "dict = {}\n",
    "\n",
    "ps = PorterStemmer()\n",
    "for w in all_tokens:\n",
    "    dict[w] = ps.stem(w)"
   ]
  },
  {
   "cell_type": "code",
   "execution_count": 50,
   "id": "453746c7-7d64-4a4c-b2c5-54b3d6d16266",
   "metadata": {},
   "outputs": [
    {
     "name": "stdout",
     "output_type": "stream",
     "text": [
      "{'Sustainable': 'sustain', 'fashion': 'fashion', 'gaining': 'gain', 'momentum': 'momentum', 'consumers': 'consum', 'prioritize': 'priorit', 'eco-friendly': 'eco-friendli', 'choices': 'choic', 'ethically': 'ethic', 'sourced': 'sourc', 'materials': 'materi', 'fair': 'fair', 'labor': 'labor', 'practices': 'practic', 'industry': 'industri', 'adapting': 'adapt', 'meet': 'meet', 'demand': 'demand', 'environmentally': 'environment', 'conscious': 'consciou', 'clothing': 'cloth', 'Designers': 'design', 'increasingly': 'increasingli', 'incorporating': 'incorpor', 'recycled': 'recycl', 'fabrics': 'fabric', 'sustainable': 'sustain', 'production': 'product', 'methods': 'method', 'setting': 'set', 'new': 'new', 'standard': 'standard', 'ethical': 'ethic', 'Vintage': 'vintag', 'continues': 'continu', 'inspire': 'inspir', 'contemporary': 'contemporari', 'styles': 'style', 'iconic': 'icon', 'looks': 'look', 'past': 'past', 'decades': 'decad', 'making': 'make', 'comebacks': 'comeback', 'Thrifting': 'thrift', 'upcycling': 'upcycl', 'contribute': 'contribut', 'popularity': 'popular', 'vintage': 'vintag', 'Embracing': 'embrac', 'pieces': 'piec', 'adds': 'add', 'unique': 'uniqu', 'flair': 'flair', 'personal': 'person', 'style': 'style', 'also': 'also', 'promotes': 'promot', 'circular': 'circular', 'economy': 'economi', 'encouraging': 'encourag', 'shift': 'shift', 'towards': 'toward', 'mindful': 'mind', 'timeless': 'timeless', 'Paris': 'pari', 'Milan': 'milan', 'London': 'london', 'New': 'new', 'York': 'york', 'renowned': 'renown', 'capitals': 'capit', 'hosting': 'host', 'weeks': 'week', 'set': 'set', 'global': 'global', 'trends': 'trend', 'events': 'event', 'showcase': 'showcas', 'creativity': 'creativ', 'innovation': 'innov', 'designers': 'design', 'around': 'around', 'world': 'world', 'intersection': 'intersect', 'culture': 'cultur', 'art': 'art', 'commerce': 'commerc', 'cities': 'citi', 'defines': 'defin', 'landscape': 'landscap', 'influencing': 'influenc', 'shaping': 'shape', \"'s\": \"'s\", 'direction': 'direct', 'Social': 'social', 'media': 'media', 'platforms': 'platform', 'transformed': 'transform', 'ordinary': 'ordinari', 'individuals': 'individu', 'influential': 'influenti', 'figures': 'figur', 'Instagram': 'instagram', 'TikTok': 'tiktok', 'YouTube': 'youtub', 'provide': 'provid', 'platform': 'platform', 'enthusiasts': 'enthusiast', 'share': 'share', 'consumer': 'consum', 'Fashion': 'fashion', 'influencers': 'influenc', 'play': 'play', 'crucial': 'crucial', 'role': 'role', 'brand': 'brand', 'promotion': 'promot', 'trendsetting': 'trendset', 'leveraging': 'leverag', 'online': 'onlin', 'presence': 'presenc', 'redefine': 'redefin', 'dynamics': 'dynam', 'Clothing': 'cloth', 'powerful': 'power', 'form': 'form', 'self-expression': 'self-express', 'allowing': 'allow', 'communicate': 'commun', 'identity': 'ident', 'values': 'valu', 'personality': 'person', 'subcultures': 'subcultur', 'high': 'high', 'way': 'way', 'people': 'peopl', 'dress': 'dress', 'reflects': 'reflect', 'diverse': 'divers', 'facets': 'facet', 'embracing': 'embrac', 'inclusivity': 'inclus', 'celebrating': 'celebr', 'various': 'variou', 'expressions': 'express', 'representative': 'repres', 'campaigns': 'campaign', 'gender-neutral': 'gender-neutr', 'designs': 'design', 'challenging': 'challeng', 'traditional': 'tradit', 'notions': 'notion', 'creating': 'creat', 'inclusive': 'inclus', 'collections': 'collect', 'cater': 'cater', 'range': 'rang', 'identities': 'ident', 'gender': 'gender', 'neutrality': 'neutral', 'fluid': 'fluid', 'approach': 'approach', 'breaking': 'break', 'stereotypes': 'stereotyp', 'without': 'without', 'limitations': 'limit', 'Haute': 'haut', 'couture': 'coutur', 'represents': 'repres', 'pinnacle': 'pinnacl', 'craftsmanship': 'craftsmanship', 'one-of-a-kind': 'one-of-a-kind', 'meticulously': 'meticul', 'crafted': 'craft', 'skilled': 'skill', 'artisans': 'artisan', 'artistry': 'artistri', 'luxury': 'luxuri', 'houses': 'hous', 'collection': 'collect', 'testament': 'testament', 'fusion': 'fusion', 'fine': 'fine', 'pushing': 'push', 'boundaries': 'boundari', 'design': 'design', 'broader': 'broader', 'fast': 'fast', 'model': 'model', 'characterized': 'character', 'rapid': 'rapid', 'quick': 'quick', 'turnover': 'turnov', 'contributes': 'contribut', 'environmental': 'environment', 'degradation': 'degrad', 'facing': 'face', 'scrutiny': 'scrutini', 'prompting': 'prompt', 'Consumers': 'consum', 'becoming': 'becom', 'aware': 'awar', 'ecological': 'ecolog', 'footprint': 'footprint', 'demanding': 'demand', 'transparency': 'transpar', 'responsible': 'respons', 'brands': 'brand', 'grapples': 'grappl', 'issues': 'issu', 'cultural': 'cultur', 'appropriation': 'appropri', 'incorporate': 'incorpor', 'elements': 'element', 'cultures': 'cultur', 'debate': 'debat', 'highlights': 'highlight', 'importance': 'import', 'sensitivity': 'sensit', 'respect': 'respect', 'within': 'within', 'Recognizing': 'recogn', 'addressing': 'address', 'instances': 'instanc', 'fostering': 'foster', 'preventing': 'prevent', 'commodification': 'commodif', 'heritage': 'heritag', 'smart': 'smart', 'virtual': 'virtual', 'shows': 'show', 'technology': 'technolog', 'reshaping': 'reshap', 'Wearable': 'wearabl', 'tech': 'tech', 'augmented': 'augment', 'reality': 'realiti', 'fitting': 'fit', 'rooms': 'room', 'integral': 'integr', 'modern': 'modern', 'experience': 'experi', 'synergy': 'synergi', 'opens': 'open', 'possibilities': 'possibl', 'customization': 'custom', 'interactivity': 'interact', 'immersive': 'immers', 'experiences': 'experi', 'marking': 'mark', 'transformative': 'transform', 'era': 'era'}\n"
     ]
    }
   ],
   "source": [
    "print(dict)"
   ]
  },
  {
   "cell_type": "markdown",
   "id": "e6a3c1cd",
   "metadata": {},
   "source": [
    "Understemming and overstemming are two ways stemming can go wrong:\n",
    "\n",
    "1. Understemming happens when two related words should be reduced to the same stem but aren’t. This is a false negative.\n",
    "\n",
    "2. Overstemming happens when two unrelated words are reduced to the same stem even though they shouldn’t be. This is a false positive."
   ]
  },
  {
   "cell_type": "code",
   "execution_count": 51,
   "id": "d3796d6c-7d5f-40bb-b962-8bdc0ef9b6b3",
   "metadata": {},
   "outputs": [
    {
     "name": "stderr",
     "output_type": "stream",
     "text": [
      "[nltk_data] Downloading package wordnet to C:\\Users\\Darshan\n",
      "[nltk_data]     Mahajan\\AppData\\Roaming\\nltk_data...\n",
      "[nltk_data]   Package wordnet is already up-to-date!\n",
      "[nltk_data] Downloading package omw-1.4 to C:\\Users\\Darshan\n",
      "[nltk_data]     Mahajan\\AppData\\Roaming\\nltk_data...\n",
      "[nltk_data]   Package omw-1.4 is already up-to-date!\n"
     ]
    },
    {
     "data": {
      "text/plain": [
       "True"
      ]
     },
     "execution_count": 51,
     "metadata": {},
     "output_type": "execute_result"
    }
   ],
   "source": [
    "from nltk.stem import WordNetLemmatizer\n",
    "nltk.download('wordnet')\n",
    "import nltk\n",
    "nltk.download('omw-1.4')\n"
   ]
  },
  {
   "cell_type": "markdown",
   "id": "fb4975b0",
   "metadata": {},
   "source": [
    " Like stemming, lemmatizing reduces words to their core meaning, but it will give you a complete English word that makes sense on its own instead of just a fragment of a word like 'discoveri'."
   ]
  },
  {
   "cell_type": "code",
   "execution_count": 52,
   "id": "830ce6a0-7bcb-400c-b296-4587fabb3fd5",
   "metadata": {},
   "outputs": [],
   "source": [
    "lm = WordNetLemmatizer()"
   ]
  },
  {
   "cell_type": "code",
   "execution_count": 53,
   "id": "c70e04d6-f617-43cf-a246-ce582025e30d",
   "metadata": {},
   "outputs": [],
   "source": [
    "lem_dict = {}\n",
    "for w in all_tokens:\n",
    "    lem_dict[w] = lm.lemmatize(w)"
   ]
  },
  {
   "cell_type": "code",
   "execution_count": 64,
   "id": "56530d1f-6301-4e71-83d8-0787e42d2c79",
   "metadata": {},
   "outputs": [
    {
     "name": "stdout",
     "output_type": "stream",
     "text": [
      "{'Sustainable': 'Sustainable', 'fashion': 'fashion', 'gaining': 'gaining', 'momentum': 'momentum', 'consumers': 'consumer', 'prioritize': 'prioritize', 'eco-friendly': 'eco-friendly', 'choices': 'choice', 'ethically': 'ethically', 'sourced': 'sourced', 'materials': 'material', 'fair': 'fair', 'labor': 'labor', 'practices': 'practice', 'industry': 'industry', 'adapting': 'adapting', 'meet': 'meet', 'demand': 'demand', 'environmentally': 'environmentally', 'conscious': 'conscious', 'clothing': 'clothing', 'Designers': 'Designers', 'increasingly': 'increasingly', 'incorporating': 'incorporating', 'recycled': 'recycled', 'fabrics': 'fabric', 'sustainable': 'sustainable', 'production': 'production', 'methods': 'method', 'setting': 'setting', 'new': 'new', 'standard': 'standard', 'ethical': 'ethical', 'Vintage': 'Vintage', 'continues': 'continues', 'inspire': 'inspire', 'contemporary': 'contemporary', 'styles': 'style', 'iconic': 'iconic', 'looks': 'look', 'past': 'past', 'decades': 'decade', 'making': 'making', 'comebacks': 'comeback', 'Thrifting': 'Thrifting', 'upcycling': 'upcycling', 'contribute': 'contribute', 'popularity': 'popularity', 'vintage': 'vintage', 'Embracing': 'Embracing', 'pieces': 'piece', 'adds': 'add', 'unique': 'unique', 'flair': 'flair', 'personal': 'personal', 'style': 'style', 'also': 'also', 'promotes': 'promotes', 'circular': 'circular', 'economy': 'economy', 'encouraging': 'encouraging', 'shift': 'shift', 'towards': 'towards', 'mindful': 'mindful', 'timeless': 'timeless', 'Paris': 'Paris', 'Milan': 'Milan', 'London': 'London', 'New': 'New', 'York': 'York', 'renowned': 'renowned', 'capitals': 'capital', 'hosting': 'hosting', 'weeks': 'week', 'set': 'set', 'global': 'global', 'trends': 'trend', 'events': 'event', 'showcase': 'showcase', 'creativity': 'creativity', 'innovation': 'innovation', 'designers': 'designer', 'around': 'around', 'world': 'world', 'intersection': 'intersection', 'culture': 'culture', 'art': 'art', 'commerce': 'commerce', 'cities': 'city', 'defines': 'defines', 'landscape': 'landscape', 'influencing': 'influencing', 'shaping': 'shaping', \"'s\": \"'s\", 'direction': 'direction', 'Social': 'Social', 'media': 'medium', 'platforms': 'platform', 'transformed': 'transformed', 'ordinary': 'ordinary', 'individuals': 'individual', 'influential': 'influential', 'figures': 'figure', 'Instagram': 'Instagram', 'TikTok': 'TikTok', 'YouTube': 'YouTube', 'provide': 'provide', 'platform': 'platform', 'enthusiasts': 'enthusiast', 'share': 'share', 'consumer': 'consumer', 'Fashion': 'Fashion', 'influencers': 'influencers', 'play': 'play', 'crucial': 'crucial', 'role': 'role', 'brand': 'brand', 'promotion': 'promotion', 'trendsetting': 'trendsetting', 'leveraging': 'leveraging', 'online': 'online', 'presence': 'presence', 'redefine': 'redefine', 'dynamics': 'dynamic', 'Clothing': 'Clothing', 'powerful': 'powerful', 'form': 'form', 'self-expression': 'self-expression', 'allowing': 'allowing', 'communicate': 'communicate', 'identity': 'identity', 'values': 'value', 'personality': 'personality', 'subcultures': 'subculture', 'high': 'high', 'way': 'way', 'people': 'people', 'dress': 'dress', 'reflects': 'reflects', 'diverse': 'diverse', 'facets': 'facet', 'embracing': 'embracing', 'inclusivity': 'inclusivity', 'celebrating': 'celebrating', 'various': 'various', 'expressions': 'expression', 'representative': 'representative', 'campaigns': 'campaign', 'gender-neutral': 'gender-neutral', 'designs': 'design', 'challenging': 'challenging', 'traditional': 'traditional', 'notions': 'notion', 'creating': 'creating', 'inclusive': 'inclusive', 'collections': 'collection', 'cater': 'cater', 'range': 'range', 'identities': 'identity', 'gender': 'gender', 'neutrality': 'neutrality', 'fluid': 'fluid', 'approach': 'approach', 'breaking': 'breaking', 'stereotypes': 'stereotype', 'without': 'without', 'limitations': 'limitation', 'Haute': 'Haute', 'couture': 'couture', 'represents': 'represents', 'pinnacle': 'pinnacle', 'craftsmanship': 'craftsmanship', 'one-of-a-kind': 'one-of-a-kind', 'meticulously': 'meticulously', 'crafted': 'crafted', 'skilled': 'skilled', 'artisans': 'artisan', 'artistry': 'artistry', 'luxury': 'luxury', 'houses': 'house', 'collection': 'collection', 'testament': 'testament', 'fusion': 'fusion', 'fine': 'fine', 'pushing': 'pushing', 'boundaries': 'boundary', 'design': 'design', 'broader': 'broader', 'fast': 'fast', 'model': 'model', 'characterized': 'characterized', 'rapid': 'rapid', 'quick': 'quick', 'turnover': 'turnover', 'contributes': 'contributes', 'environmental': 'environmental', 'degradation': 'degradation', 'facing': 'facing', 'scrutiny': 'scrutiny', 'prompting': 'prompting', 'Consumers': 'Consumers', 'becoming': 'becoming', 'aware': 'aware', 'ecological': 'ecological', 'footprint': 'footprint', 'demanding': 'demanding', 'transparency': 'transparency', 'responsible': 'responsible', 'brands': 'brand', 'grapples': 'grapple', 'issues': 'issue', 'cultural': 'cultural', 'appropriation': 'appropriation', 'incorporate': 'incorporate', 'elements': 'element', 'cultures': 'culture', 'debate': 'debate', 'highlights': 'highlight', 'importance': 'importance', 'sensitivity': 'sensitivity', 'respect': 'respect', 'within': 'within', 'Recognizing': 'Recognizing', 'addressing': 'addressing', 'instances': 'instance', 'fostering': 'fostering', 'preventing': 'preventing', 'commodification': 'commodification', 'heritage': 'heritage', 'smart': 'smart', 'virtual': 'virtual', 'shows': 'show', 'technology': 'technology', 'reshaping': 'reshaping', 'Wearable': 'Wearable', 'tech': 'tech', 'augmented': 'augmented', 'reality': 'reality', 'fitting': 'fitting', 'rooms': 'room', 'integral': 'integral', 'modern': 'modern', 'experience': 'experience', 'synergy': 'synergy', 'opens': 'open', 'possibilities': 'possibility', 'customization': 'customization', 'interactivity': 'interactivity', 'immersive': 'immersive', 'experiences': 'experience', 'marking': 'marking', 'transformative': 'transformative', 'era': 'era'}\n",
      "253\n",
      "352\n"
     ]
    }
   ],
   "source": [
    "print(lem_dict)\n",
    "print(len(lem_dict))\n",
    "print(len(all_tokens))"
   ]
  },
  {
   "cell_type": "code",
   "execution_count": null,
   "id": "93307e31",
   "metadata": {},
   "outputs": [],
   "source": [
    "def calculateTF(token):\n",
    "    term_freq = {}\n",
    "    for word in token:\n",
    "        if word not in term_freq:\n",
    "            term_freq[word] = token.count(word) / len(token)\n",
    "\n",
    "    return term_freq\n",
    "\n",
    "calculateTF(all_tokens)"
   ]
  },
  {
   "cell_type": "markdown",
   "id": "854669e0",
   "metadata": {},
   "source": [
    "TF = (Number of times the term appears in the document) / (Total number of terms in the document)\n",
    "\n",
    "IDF = log((Total number of docs) / (Number of docs that contain the term))"
   ]
  },
  {
   "cell_type": "code",
   "execution_count": 70,
   "id": "55baa796",
   "metadata": {},
   "outputs": [],
   "source": [
    "inverse_doc_frequency = {}\n",
    "\n",
    "for w in all_tokens:\n",
    "    tot_docs_having_w = 0\n",
    "    \n",
    "    for file in os.listdir():\n",
    "        if file.endswith(\".txt\"):\n",
    "            file_path = os.path.join(script_directory, file)\n",
    "            with open(file_path, 'r') as f: \n",
    "                word = f.read()\n",
    "                if w in nltk.word_tokenize(word):\n",
    "                    tot_docs_having_w += 1\n",
    "    \n",
    "    inverse_doc_frequency[w] =  np.log10(10 / tot_docs_having_w)"
   ]
  },
  {
   "cell_type": "code",
   "execution_count": 71,
   "id": "104a1440",
   "metadata": {},
   "outputs": [
    {
     "name": "stdout",
     "output_type": "stream",
     "text": [
      "{'Sustainable': 1.0, 'fashion': 0.0, 'gaining': 1.0, 'momentum': 1.0, 'consumers': 1.0, 'prioritize': 1.0, 'eco-friendly': 1.0, 'choices': 0.3979400086720376, 'ethically': 1.0, 'sourced': 1.0, 'materials': 1.0, 'fair': 1.0, 'labor': 1.0, 'practices': 0.6989700043360189, 'industry': 0.04575749056067514, 'adapting': 1.0, 'meet': 1.0, 'demand': 1.0, 'environmentally': 1.0, 'conscious': 1.0, 'clothing': 0.5228787452803376, 'Designers': 0.6989700043360189, 'increasingly': 0.5228787452803376, 'incorporating': 1.0, 'recycled': 1.0, 'fabrics': 0.6989700043360189, 'sustainable': 0.5228787452803376, 'production': 0.6989700043360189, 'methods': 0.6989700043360189, 'setting': 0.6989700043360189, 'new': 0.6989700043360189, 'standard': 1.0, 'ethical': 0.6989700043360189, 'Vintage': 1.0, 'continues': 1.0, 'inspire': 1.0, 'contemporary': 1.0, 'styles': 0.6989700043360189, 'iconic': 0.6989700043360189, 'looks': 1.0, 'past': 1.0, 'decades': 1.0, 'making': 1.0, 'comebacks': 1.0, 'Thrifting': 1.0, 'upcycling': 1.0, 'contribute': 1.0, 'popularity': 1.0, 'vintage': 1.0, 'Embracing': 1.0, 'pieces': 0.6989700043360189, 'adds': 1.0, 'unique': 1.0, 'flair': 1.0, 'personal': 1.0, 'style': 0.6989700043360189, 'also': 1.0, 'promotes': 0.6989700043360189, 'circular': 1.0, 'economy': 1.0, 'encouraging': 0.6989700043360189, 'shift': 0.5228787452803376, 'towards': 0.5228787452803376, 'mindful': 1.0, 'timeless': 1.0, 'Paris': 1.0, 'Milan': 1.0, 'London': 1.0, 'New': 1.0, 'York': 1.0, 'renowned': 1.0, 'capitals': 1.0, 'hosting': 1.0, 'weeks': 1.0, 'set': 1.0, 'global': 0.6989700043360189, 'trends': 0.3979400086720376, 'events': 1.0, 'showcase': 0.6989700043360189, 'creativity': 0.6989700043360189, 'innovation': 0.6989700043360189, 'designers': 0.6989700043360189, 'around': 1.0, 'world': 0.6989700043360189, 'intersection': 1.0, 'culture': 1.0, 'art': 0.6989700043360189, 'commerce': 1.0, 'cities': 1.0, 'defines': 1.0, 'landscape': 0.5228787452803376, 'influencing': 0.6989700043360189, 'shaping': 0.6989700043360189, \"'s\": 1.0, 'direction': 1.0, 'Social': 1.0, 'media': 1.0, 'platforms': 1.0, 'transformed': 1.0, 'ordinary': 1.0, 'individuals': 0.6989700043360189, 'influential': 1.0, 'figures': 1.0, 'Instagram': 1.0, 'TikTok': 1.0, 'YouTube': 1.0, 'provide': 1.0, 'platform': 1.0, 'enthusiasts': 1.0, 'share': 1.0, 'consumer': 1.0, 'Fashion': 1.0, 'influencers': 1.0, 'play': 1.0, 'crucial': 0.6989700043360189, 'role': 1.0, 'brand': 0.6989700043360189, 'promotion': 1.0, 'trendsetting': 1.0, 'leveraging': 1.0, 'online': 1.0, 'presence': 1.0, 'redefine': 1.0, 'dynamics': 1.0, 'Clothing': 1.0, 'powerful': 1.0, 'form': 1.0, 'self-expression': 0.6989700043360189, 'allowing': 1.0, 'communicate': 1.0, 'identity': 1.0, 'values': 1.0, 'personality': 1.0, 'subcultures': 1.0, 'high': 1.0, 'way': 1.0, 'people': 1.0, 'dress': 1.0, 'reflects': 1.0, 'diverse': 0.5228787452803376, 'facets': 1.0, 'embracing': 0.6989700043360189, 'inclusivity': 0.6989700043360189, 'celebrating': 1.0, 'various': 1.0, 'expressions': 0.6989700043360189, 'representative': 1.0, 'campaigns': 1.0, 'gender-neutral': 1.0, 'designs': 1.0, 'challenging': 1.0, 'traditional': 1.0, 'notions': 1.0, 'creating': 1.0, 'inclusive': 1.0, 'collections': 1.0, 'cater': 1.0, 'range': 1.0, 'identities': 1.0, 'gender': 1.0, 'neutrality': 1.0, 'fluid': 1.0, 'approach': 1.0, 'breaking': 1.0, 'stereotypes': 1.0, 'without': 1.0, 'limitations': 1.0, 'Haute': 1.0, 'couture': 1.0, 'represents': 1.0, 'pinnacle': 1.0, 'craftsmanship': 1.0, 'one-of-a-kind': 1.0, 'meticulously': 1.0, 'crafted': 1.0, 'skilled': 1.0, 'artisans': 1.0, 'artistry': 1.0, 'luxury': 1.0, 'houses': 1.0, 'collection': 1.0, 'testament': 1.0, 'fusion': 1.0, 'fine': 1.0, 'pushing': 1.0, 'boundaries': 1.0, 'design': 1.0, 'broader': 1.0, 'fast': 1.0, 'model': 1.0, 'characterized': 1.0, 'rapid': 1.0, 'quick': 1.0, 'turnover': 1.0, 'contributes': 1.0, 'environmental': 1.0, 'degradation': 1.0, 'facing': 1.0, 'scrutiny': 1.0, 'prompting': 1.0, 'Consumers': 1.0, 'becoming': 0.6989700043360189, 'aware': 1.0, 'ecological': 1.0, 'footprint': 1.0, 'demanding': 1.0, 'transparency': 1.0, 'responsible': 1.0, 'brands': 1.0, 'grapples': 1.0, 'issues': 1.0, 'cultural': 1.0, 'appropriation': 1.0, 'incorporate': 1.0, 'elements': 1.0, 'cultures': 1.0, 'debate': 1.0, 'highlights': 1.0, 'importance': 1.0, 'sensitivity': 1.0, 'respect': 1.0, 'within': 1.0, 'Recognizing': 1.0, 'addressing': 1.0, 'instances': 1.0, 'fostering': 1.0, 'preventing': 1.0, 'commodification': 1.0, 'heritage': 1.0, 'smart': 1.0, 'virtual': 1.0, 'shows': 1.0, 'technology': 1.0, 'reshaping': 1.0, 'Wearable': 1.0, 'tech': 1.0, 'augmented': 1.0, 'reality': 1.0, 'fitting': 1.0, 'rooms': 1.0, 'integral': 1.0, 'modern': 1.0, 'experience': 1.0, 'synergy': 1.0, 'opens': 1.0, 'possibilities': 1.0, 'customization': 1.0, 'interactivity': 1.0, 'immersive': 1.0, 'experiences': 1.0, 'marking': 1.0, 'transformative': 1.0, 'era': 1.0}\n"
     ]
    }
   ],
   "source": [
    "print(inverse_doc_frequency)"
   ]
  },
  {
   "cell_type": "markdown",
   "id": "9b06f67b",
   "metadata": {},
   "source": [
    "1. IDF value of 0: This typically occurs when a term (word) is present in all documents within the corpus. In such cases, the IDF value is set to 0 to prevent division by zero when calculating the TF-IDF score. A term with an IDF value of 0 indicates that it is not discriminative or distinctive across documents and therefore may not contribute much to distinguishing documents.\n",
    "2. IDF value of 1: This happens when the term appears in only one document in the corpus. In this case, the IDF value is often adjusted to 1 to indicate that the term is relatively rare but still present in the corpus. However, it doesn't provide significant discriminative power compared to terms with higher IDF values.\n",
    "3. Other IDF values: Terms with IDF values other than 0 or 1 indicate their rarity or uniqueness within the corpus. Higher IDF values indicate that the term is rare across documents and therefore potentially more discriminative. Terms with higher IDF values contribute more to the TF-IDF score and are considered more important in distinguishing documents.\n"
   ]
  },
  {
   "cell_type": "markdown",
   "id": "609faa14",
   "metadata": {},
   "source": [
    "TF-IDF (Term Frequency-Inverse Document Frequency) is a numerical measure that indicates the importance of a word in a document taking into account how frequent the word is in other documents in the same corpus. It consists of multiplying the term frequency (TF) by the inverse document frequency (IDF), which is the logarithm of the total number of documents divided by the number of documents containing the term. "
   ]
  }
 ],
 "metadata": {
  "kernelspec": {
   "display_name": "Python 3",
   "language": "python",
   "name": "python3"
  },
  "language_info": {
   "codemirror_mode": {
    "name": "ipython",
    "version": 3
   },
   "file_extension": ".py",
   "mimetype": "text/x-python",
   "name": "python",
   "nbconvert_exporter": "python",
   "pygments_lexer": "ipython3",
   "version": "3.11.1"
  }
 },
 "nbformat": 4,
 "nbformat_minor": 5
}
