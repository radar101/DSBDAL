{
 "cells": [
  {
   "cell_type": "code",
   "execution_count": 1,
   "id": "c7eb1538-ea90-4b7e-a9e4-c3a1b9e76cfa",
   "metadata": {},
   "outputs": [
    {
     "name": "stderr",
     "output_type": "stream",
     "text": [
      "[nltk_data] Downloading package punkt to /home/tecomp/nltk_data...\n",
      "[nltk_data]   Package punkt is already up-to-date!\n"
     ]
    },
    {
     "data": {
      "text/plain": [
       "True"
      ]
     },
     "execution_count": 1,
     "metadata": {},
     "output_type": "execute_result"
    }
   ],
   "source": [
    "import nltk\n",
    "import os\n",
    "nltk.download('punkt')\n"
   ]
  },
  {
   "cell_type": "code",
   "execution_count": 2,
   "id": "27cc01a8-8a1a-4c9a-bd82-9db99acb2e66",
   "metadata": {},
   "outputs": [],
   "source": [
    "script_directory = os.getcwd()\n",
    "os.chdir(script_directory)"
   ]
  },
  {
   "cell_type": "code",
   "execution_count": 3,
   "id": "827fd1ef-a81a-444a-82c2-83a471523a54",
   "metadata": {},
   "outputs": [],
   "source": [
    "all_tokens = []"
   ]
  },
  {
   "cell_type": "code",
   "execution_count": 4,
   "id": "2fdaa3a0-f598-4879-9ab7-b058a64bffc1",
   "metadata": {},
   "outputs": [],
   "source": [
    "def read_text_file(file_path): \n",
    "    with open(file_path, 'r') as f: \n",
    "        word = f.read()\n",
    "        # print(nltk.word_tokenize(word))\n",
    "        temp = nltk.word_tokenize(word)\n",
    "        all_tokens.extend(temp)\n"
   ]
  },
  {
   "cell_type": "code",
   "execution_count": 5,
   "id": "0990177d-1b32-4fb4-b461-3f6af4464599",
   "metadata": {},
   "outputs": [],
   "source": [
    "for file in os.listdir():\n",
    "    if file.endswith(\".txt\"):\n",
    "        file_path = os.path.join(script_directory, file)\n",
    "        read_text_file(file_path)"
   ]
  },
  {
   "cell_type": "code",
   "execution_count": 6,
   "id": "aae62f8b-bf57-43d1-8321-d2d292972ef6",
   "metadata": {},
   "outputs": [],
   "source": [
    "# print(all_tokens)"
   ]
  },
  {
   "cell_type": "code",
   "execution_count": 7,
   "id": "0431fbef-6069-4364-a84e-cea9a0a035e3",
   "metadata": {},
   "outputs": [],
   "source": [
    "import numpy as np"
   ]
  },
  {
   "cell_type": "code",
   "execution_count": 8,
   "id": "dcc300a8-fef0-460c-9964-9f1edaadccf5",
   "metadata": {},
   "outputs": [],
   "source": [
    "def clean_list(tokens):\n",
    "    characters_to_remove = [',', '.', ' ']\n",
    "    for token in tokens:\n",
    "        if token in characters_to_remove:\n",
    "            tokens.remove(token)    "
   ]
  },
  {
   "cell_type": "code",
   "execution_count": 9,
   "id": "34a43852-fe9e-4ab1-9193-d36e033172ac",
   "metadata": {},
   "outputs": [],
   "source": [
    "clean_list(all_tokens)"
   ]
  },
  {
   "cell_type": "code",
   "execution_count": 10,
   "id": "5058e693-4ee1-4b27-b3ad-f82d6e424bbd",
   "metadata": {},
   "outputs": [],
   "source": [
    "# print(all_tokens)"
   ]
  },
  {
   "cell_type": "code",
   "execution_count": 11,
   "id": "018561a8-7db1-49c9-baa6-0f0e86ca8a61",
   "metadata": {},
   "outputs": [
    {
     "name": "stderr",
     "output_type": "stream",
     "text": [
      "[nltk_data] Downloading package averaged_perceptron_tagger to\n",
      "[nltk_data]     /home/tecomp/nltk_data...\n",
      "[nltk_data]   Package averaged_perceptron_tagger is already up-to-\n",
      "[nltk_data]       date!\n"
     ]
    },
    {
     "data": {
      "text/plain": [
       "True"
      ]
     },
     "execution_count": 11,
     "metadata": {},
     "output_type": "execute_result"
    }
   ],
   "source": [
    "nltk.download('averaged_perceptron_tagger')"
   ]
  },
  {
   "cell_type": "code",
   "execution_count": 12,
   "id": "9e948919-e39e-46aa-9203-4aa52cbf0ce0",
   "metadata": {},
   "outputs": [],
   "source": [
    "pos = nltk.pos_tag(all_tokens)"
   ]
  },
  {
   "cell_type": "code",
   "execution_count": 13,
   "id": "82b48b67-3cf8-4c46-ae3c-dda1d79bbcfb",
   "metadata": {},
   "outputs": [],
   "source": [
    "from nltk.stem import PorterStemmer"
   ]
  },
  {
   "cell_type": "code",
   "execution_count": 14,
   "id": "4ede0efa-0228-431e-81b6-e7b3dcd89c0d",
   "metadata": {},
   "outputs": [],
   "source": [
    "dict = {}\n",
    "\n",
    "ps = PorterStemmer()\n",
    "for w in all_tokens:\n",
    "    dict[w] = ps.stem(w)"
   ]
  },
  {
   "cell_type": "code",
   "execution_count": 15,
   "id": "453746c7-7d64-4a4c-b2c5-54b3d6d16266",
   "metadata": {},
   "outputs": [],
   "source": [
    "# print(dict)"
   ]
  },
  {
   "cell_type": "code",
   "execution_count": 16,
   "id": "d3796d6c-7d5f-40bb-b962-8bdc0ef9b6b3",
   "metadata": {},
   "outputs": [
    {
     "name": "stderr",
     "output_type": "stream",
     "text": [
      "[nltk_data] Downloading package wordnet to /home/tecomp/nltk_data...\n",
      "[nltk_data]   Package wordnet is already up-to-date!\n",
      "[nltk_data] Downloading package omw-1.4 to /home/tecomp/nltk_data...\n",
      "[nltk_data]   Package omw-1.4 is already up-to-date!\n"
     ]
    },
    {
     "data": {
      "text/plain": [
       "True"
      ]
     },
     "execution_count": 16,
     "metadata": {},
     "output_type": "execute_result"
    }
   ],
   "source": [
    "from nltk.stem import WordNetLemmatizer\n",
    "nltk.download('wordnet')\n",
    "import nltk\n",
    "nltk.download('omw-1.4')\n"
   ]
  },
  {
   "cell_type": "code",
   "execution_count": 17,
   "id": "830ce6a0-7bcb-400c-b296-4587fabb3fd5",
   "metadata": {},
   "outputs": [],
   "source": [
    "lm = WordNetLemmatizer()"
   ]
  },
  {
   "cell_type": "code",
   "execution_count": 18,
   "id": "c70e04d6-f617-43cf-a246-ce582025e30d",
   "metadata": {},
   "outputs": [],
   "source": [
    "lem_dict = {}\n",
    "for w in all_tokens:\n",
    "    lem_dict[w] = lm.lemmatize(w)"
   ]
  },
  {
   "cell_type": "code",
   "execution_count": 19,
   "id": "56530d1f-6301-4e71-83d8-0787e42d2c79",
   "metadata": {},
   "outputs": [],
   "source": [
    "# print(lem_dict)"
   ]
  },
  {
   "cell_type": "code",
   "execution_count": 20,
   "id": "cb14b3d1-0bbb-4d1a-9f77-b157bdece808",
   "metadata": {},
   "outputs": [],
   "source": [
    "from sklearn.feature_extraction.text import CountVectorizer, TfidfTransformer"
   ]
  },
  {
   "cell_type": "code",
   "execution_count": 21,
   "id": "47274b74-e6b7-461c-93a3-4093786ebde1",
   "metadata": {},
   "outputs": [],
   "source": [
    "documents = []\n",
    "for file in os.listdir():\n",
    "    if file.endswith(\".txt\"):\n",
    "        file_path = os.path.join(script_directory, file)\n",
    "        with open(file_path, 'r') as f: \n",
    "            word = f.read()\n",
    "            documents.append(word)"
   ]
  },
  {
   "cell_type": "code",
   "execution_count": 22,
   "id": "0fde294a-1899-46af-add9-bbec3c83de6e",
   "metadata": {},
   "outputs": [],
   "source": [
    "# Calculating Term Frequency (TF)\n",
    "count_vectorizer = CountVectorizer()\n",
    "tf_matrix = count_vectorizer.fit_transform(documents)"
   ]
  },
  {
   "cell_type": "code",
   "execution_count": 23,
   "id": "aceece12-ba8e-42af-b1a2-ca70a642072e",
   "metadata": {},
   "outputs": [],
   "source": [
    "# Calculating Inverse Term Frequency (ITF)\n",
    "tfidf_transformer = TfidfTransformer()\n",
    "tfidf_matrix = tfidf_transformer.fit_transform(tf_matrix)"
   ]
  },
  {
   "cell_type": "code",
   "execution_count": 24,
   "id": "b354f515-7964-45b8-8b14-e8c1506d2873",
   "metadata": {},
   "outputs": [
    {
     "data": {
      "text/plain": [
       "{'From': 0.0057692307692307696,\n",
       " 'smart': 0.0019230769230769232,\n",
       " 'fabrics': 0.0038461538461538464,\n",
       " 'to': 0.028846153846153848,\n",
       " 'virtual': 0.0038461538461538464,\n",
       " 'fashion': 0.051923076923076926,\n",
       " 'shows': 0.0019230769230769232,\n",
       " 'technology': 0.0038461538461538464,\n",
       " 'is': 0.01730769230769231,\n",
       " 'reshaping': 0.0019230769230769232,\n",
       " 'the': 0.04807692307692308,\n",
       " 'landscape': 0.0057692307692307696,\n",
       " 'Wearable': 0.0019230769230769232,\n",
       " 'tech': 0.0019230769230769232,\n",
       " 'augmented': 0.0019230769230769232,\n",
       " 'reality': 0.0019230769230769232,\n",
       " 'and': 0.05384615384615385,\n",
       " 'fitting': 0.0019230769230769232,\n",
       " 'rooms': 0.0019230769230769232,\n",
       " 'are': 0.009615384615384616,\n",
       " 'becoming': 0.0038461538461538464,\n",
       " 'integral': 0.0019230769230769232,\n",
       " 'modern': 0.0019230769230769232,\n",
       " 'experience': 0.0019230769230769232,\n",
       " 'The': 0.015384615384615385,\n",
       " 'synergy': 0.0019230769230769232,\n",
       " 'between': 0.0019230769230769232,\n",
       " 'opens': 0.0019230769230769232,\n",
       " 'new': 0.0038461538461538464,\n",
       " 'possibilities': 0.0019230769230769232,\n",
       " 'for': 0.011538461538461539,\n",
       " 'customization': 0.0019230769230769232,\n",
       " 'interactivity': 0.0019230769230769232,\n",
       " 'immersive': 0.0019230769230769232,\n",
       " 'brand': 0.0038461538461538464,\n",
       " 'experiences': 0.0019230769230769232,\n",
       " 'marking': 0.0019230769230769232,\n",
       " 'a': 0.021153846153846155,\n",
       " 'transformative': 0.0019230769230769232,\n",
       " 'era': 0.0019230769230769232,\n",
       " 'in': 0.007692307692307693,\n",
       " 'industry': 0.01730769230769231,\n",
       " 'grapples': 0.0019230769230769232,\n",
       " 'with': 0.0038461538461538464,\n",
       " 'issues': 0.0019230769230769232,\n",
       " 'of': 0.038461538461538464,\n",
       " 'cultural': 0.007692307692307693,\n",
       " 'appropriation': 0.0038461538461538464,\n",
       " 'as': 0.0057692307692307696,\n",
       " 'designers': 0.0038461538461538464,\n",
       " 'incorporate': 0.0019230769230769232,\n",
       " 'elements': 0.0019230769230769232,\n",
       " 'from': 0.007692307692307693,\n",
       " 'diverse': 0.007692307692307693,\n",
       " 'cultures': 0.0019230769230769232,\n",
       " 'debate': 0.0019230769230769232,\n",
       " 'highlights': 0.0019230769230769232,\n",
       " 'importance': 0.0019230769230769232,\n",
       " 'sensitivity': 0.0019230769230769232,\n",
       " 'respect': 0.0019230769230769232,\n",
       " 'within': 0.0038461538461538464,\n",
       " 'world': 0.0038461538461538464,\n",
       " 'Recognizing': 0.0019230769230769232,\n",
       " 'addressing': 0.0019230769230769232,\n",
       " 'instances': 0.0019230769230769232,\n",
       " 'crucial': 0.0038461538461538464,\n",
       " 'fostering': 0.0019230769230769232,\n",
       " 'inclusivity': 0.0038461538461538464,\n",
       " 'preventing': 0.0019230769230769232,\n",
       " 'commodification': 0.0019230769230769232,\n",
       " 'heritage': 0.0019230769230769232,\n",
       " 'global': 0.0038461538461538464,\n",
       " 'Haute': 0.0019230769230769232,\n",
       " 'couture': 0.0038461538461538464,\n",
       " 'represents': 0.0019230769230769232,\n",
       " 'pinnacle': 0.0019230769230769232,\n",
       " 'craftsmanship': 0.0019230769230769232,\n",
       " 'creativity': 0.0038461538461538464,\n",
       " 'These': 0.0038461538461538464,\n",
       " 'one-of-a-kind': 0.0019230769230769232,\n",
       " 'pieces': 0.0038461538461538464,\n",
       " 'meticulously': 0.0019230769230769232,\n",
       " 'crafted': 0.0019230769230769232,\n",
       " 'by': 0.0038461538461538464,\n",
       " 'skilled': 0.0019230769230769232,\n",
       " 'artisans': 0.0019230769230769232,\n",
       " 'showcase': 0.0038461538461538464,\n",
       " 'artistry': 0.0019230769230769232,\n",
       " 'innovation': 0.0038461538461538464,\n",
       " 'luxury': 0.0019230769230769232,\n",
       " 'houses': 0.0019230769230769232,\n",
       " 'Each': 0.0019230769230769232,\n",
       " 'collection': 0.0019230769230769232,\n",
       " 'testament': 0.0019230769230769232,\n",
       " 'fusion': 0.0019230769230769232,\n",
       " 'fine': 0.0019230769230769232,\n",
       " 'art': 0.0038461538461538464,\n",
       " 'pushing': 0.0019230769230769232,\n",
       " 'boundaries': 0.0019230769230769232,\n",
       " 'design': 0.0019230769230769232,\n",
       " 'setting': 0.0038461538461538464,\n",
       " 'trends': 0.007692307692307693,\n",
       " 'broader': 0.0019230769230769232,\n",
       " 'Paris': 0.0019230769230769232,\n",
       " 'Milan': 0.0019230769230769232,\n",
       " 'London': 0.0019230769230769232,\n",
       " 'New': 0.0019230769230769232,\n",
       " 'York': 0.0019230769230769232,\n",
       " 'renowned': 0.0019230769230769232,\n",
       " 'capitals': 0.0019230769230769232,\n",
       " 'hosting': 0.0019230769230769232,\n",
       " 'iconic': 0.0038461538461538464,\n",
       " 'weeks': 0.0019230769230769232,\n",
       " 'that': 0.0038461538461538464,\n",
       " 'set': 0.0019230769230769232,\n",
       " 'events': 0.0019230769230769232,\n",
       " 'around': 0.0019230769230769232,\n",
       " 'intersection': 0.0019230769230769232,\n",
       " 'culture': 0.0019230769230769232,\n",
       " 'commerce': 0.0019230769230769232,\n",
       " 'these': 0.0019230769230769232,\n",
       " 'cities': 0.0019230769230769232,\n",
       " 'defines': 0.0019230769230769232,\n",
       " 'influencing': 0.0038461538461538464,\n",
       " 'styles': 0.0038461538461538464,\n",
       " 'shaping': 0.0038461538461538464,\n",
       " \"'s\": 0.0019230769230769232,\n",
       " 'direction': 0.0019230769230769232,\n",
       " 'increasingly': 0.0057692307692307696,\n",
       " 'embracing': 0.0038461538461538464,\n",
       " 'gender-neutral': 0.0019230769230769232,\n",
       " 'designs': 0.0019230769230769232,\n",
       " 'challenging': 0.0019230769230769232,\n",
       " 'traditional': 0.0019230769230769232,\n",
       " 'notions': 0.0019230769230769232,\n",
       " 'clothing': 0.0057692307692307696,\n",
       " 'Designers': 0.0038461538461538464,\n",
       " 'creating': 0.0019230769230769232,\n",
       " 'inclusive': 0.0038461538461538464,\n",
       " 'collections': 0.0019230769230769232,\n",
       " 'cater': 0.0019230769230769232,\n",
       " 'range': 0.0019230769230769232,\n",
       " 'identities': 0.0019230769230769232,\n",
       " 'expressions': 0.0038461538461538464,\n",
       " 'This': 0.0019230769230769232,\n",
       " 'shift': 0.0057692307692307696,\n",
       " 'towards': 0.0057692307692307696,\n",
       " 'gender': 0.0019230769230769232,\n",
       " 'neutrality': 0.0019230769230769232,\n",
       " 'promotes': 0.0038461538461538464,\n",
       " 'more': 0.0057692307692307696,\n",
       " 'fluid': 0.0019230769230769232,\n",
       " 'approach': 0.0019230769230769232,\n",
       " 'breaking': 0.0019230769230769232,\n",
       " 'down': 0.0019230769230769232,\n",
       " 'stereotypes': 0.0019230769230769232,\n",
       " 'encouraging': 0.0038461538461538464,\n",
       " 'self-expression': 0.0038461538461538464,\n",
       " 'without': 0.0019230769230769232,\n",
       " 'limitations': 0.0019230769230769232,\n",
       " 'Vintage': 0.0019230769230769232,\n",
       " 'continues': 0.0019230769230769232,\n",
       " 'inspire': 0.0019230769230769232,\n",
       " 'contemporary': 0.0019230769230769232,\n",
       " 'looks': 0.0019230769230769232,\n",
       " 'past': 0.0019230769230769232,\n",
       " 'decades': 0.0019230769230769232,\n",
       " 'making': 0.0019230769230769232,\n",
       " 'comebacks': 0.0019230769230769232,\n",
       " 'Thrifting': 0.0019230769230769232,\n",
       " 'upcycling': 0.0019230769230769232,\n",
       " 'contribute': 0.0019230769230769232,\n",
       " 'popularity': 0.0019230769230769232,\n",
       " 'sustainable': 0.0057692307692307696,\n",
       " 'vintage': 0.0038461538461538464,\n",
       " 'Embracing': 0.0019230769230769232,\n",
       " 'not': 0.0019230769230769232,\n",
       " 'only': 0.0019230769230769232,\n",
       " 'adds': 0.0019230769230769232,\n",
       " 'unique': 0.0019230769230769232,\n",
       " 'flair': 0.0019230769230769232,\n",
       " 'personal': 0.0019230769230769232,\n",
       " 'style': 0.0038461538461538464,\n",
       " 'but': 0.0019230769230769232,\n",
       " 'also': 0.0019230769230769232,\n",
       " 'circular': 0.0019230769230769232,\n",
       " 'economy': 0.0019230769230769232,\n",
       " 'mindful': 0.0019230769230769232,\n",
       " 'timeless': 0.0019230769230769232,\n",
       " 'choices': 0.007692307692307693,\n",
       " 'Clothing': 0.0019230769230769232,\n",
       " 'powerful': 0.0019230769230769232,\n",
       " 'form': 0.0019230769230769232,\n",
       " 'allowing': 0.0019230769230769232,\n",
       " 'individuals': 0.0038461538461538464,\n",
       " 'communicate': 0.0019230769230769232,\n",
       " 'their': 0.009615384615384616,\n",
       " 'identity': 0.0057692307692307696,\n",
       " 'values': 0.0019230769230769232,\n",
       " 'personality': 0.0019230769230769232,\n",
       " 'subcultures': 0.0019230769230769232,\n",
       " 'high': 0.0019230769230769232,\n",
       " 'way': 0.0019230769230769232,\n",
       " 'people': 0.0019230769230769232,\n",
       " 'dress': 0.0019230769230769232,\n",
       " 'reflects': 0.0019230769230769232,\n",
       " 'facets': 0.0019230769230769232,\n",
       " 'celebrating': 0.0019230769230769232,\n",
       " 'various': 0.0019230769230769232,\n",
       " 'through': 0.0019230769230769232,\n",
       " 'representative': 0.0019230769230769232,\n",
       " 'campaigns': 0.0019230769230769232,\n",
       " 'Social': 0.0019230769230769232,\n",
       " 'media': 0.0019230769230769232,\n",
       " 'platforms': 0.0019230769230769232,\n",
       " 'have': 0.0019230769230769232,\n",
       " 'transformed': 0.0019230769230769232,\n",
       " 'ordinary': 0.0019230769230769232,\n",
       " 'into': 0.0019230769230769232,\n",
       " 'influential': 0.0019230769230769232,\n",
       " 'figures': 0.0019230769230769232,\n",
       " 'Instagram': 0.0019230769230769232,\n",
       " 'TikTok': 0.0019230769230769232,\n",
       " 'YouTube': 0.0019230769230769232,\n",
       " 'provide': 0.0019230769230769232,\n",
       " 'platform': 0.0019230769230769232,\n",
       " 'enthusiasts': 0.0019230769230769232,\n",
       " 'share': 0.0019230769230769232,\n",
       " 'consumer': 0.0019230769230769232,\n",
       " 'Fashion': 0.0019230769230769232,\n",
       " 'influencers': 0.0019230769230769232,\n",
       " 'play': 0.0019230769230769232,\n",
       " 'role': 0.0019230769230769232,\n",
       " 'promotion': 0.0019230769230769232,\n",
       " 'trendsetting': 0.0019230769230769232,\n",
       " 'leveraging': 0.0019230769230769232,\n",
       " 'online': 0.0019230769230769232,\n",
       " 'presence': 0.0019230769230769232,\n",
       " 'redefine': 0.0019230769230769232,\n",
       " 'dynamics': 0.0019230769230769232,\n",
       " 'fast': 0.0019230769230769232,\n",
       " 'model': 0.0019230769230769232,\n",
       " 'characterized': 0.0019230769230769232,\n",
       " 'rapid': 0.0019230769230769232,\n",
       " 'production': 0.0057692307692307696,\n",
       " 'quick': 0.0019230769230769232,\n",
       " 'turnover': 0.0019230769230769232,\n",
       " 'contributes': 0.0019230769230769232,\n",
       " 'environmental': 0.0019230769230769232,\n",
       " 'degradation': 0.0019230769230769232,\n",
       " 'facing': 0.0019230769230769232,\n",
       " 'scrutiny': 0.0019230769230769232,\n",
       " 'prompting': 0.0019230769230769232,\n",
       " 'ethical': 0.0038461538461538464,\n",
       " 'practices': 0.0038461538461538464,\n",
       " 'Consumers': 0.0019230769230769232,\n",
       " 'aware': 0.0019230769230769232,\n",
       " 'ecological': 0.0019230769230769232,\n",
       " 'footprint': 0.0019230769230769232,\n",
       " 'demanding': 0.0019230769230769232,\n",
       " 'transparency': 0.0019230769230769232,\n",
       " 'responsible': 0.0019230769230769232,\n",
       " 'methods': 0.0038461538461538464,\n",
       " 'brands': 0.0019230769230769232,\n",
       " 'Sustainable': 0.0019230769230769232,\n",
       " 'gaining': 0.0019230769230769232,\n",
       " 'momentum': 0.0019230769230769232,\n",
       " 'consumers': 0.0019230769230769232,\n",
       " 'prioritize': 0.0019230769230769232,\n",
       " 'eco-friendly': 0.0019230769230769232,\n",
       " 'ethically': 0.0019230769230769232,\n",
       " 'sourced': 0.0019230769230769232,\n",
       " 'materials': 0.0019230769230769232,\n",
       " 'fair': 0.0019230769230769232,\n",
       " 'labor': 0.0019230769230769232,\n",
       " 'adapting': 0.0019230769230769232,\n",
       " 'meet': 0.0019230769230769232,\n",
       " 'demand': 0.0019230769230769232,\n",
       " 'environmentally': 0.0019230769230769232,\n",
       " 'conscious': 0.0019230769230769232,\n",
       " 'incorporating': 0.0019230769230769232,\n",
       " 'recycled': 0.0019230769230769232,\n",
       " 'standard': 0.0019230769230769232}"
      ]
     },
     "execution_count": 24,
     "metadata": {},
     "output_type": "execute_result"
    }
   ],
   "source": [
    "def calculateTF(token):\n",
    "    term_freq = {}\n",
    "    for word in token:\n",
    "        if word not in term_freq:\n",
    "            term_freq[word] = token.count(word) / len(token)\n",
    "\n",
    "    return term_freq\n",
    "\n",
    "calculateTF(all_tokens)\n"
   ]
  },
  {
   "cell_type": "code",
   "execution_count": 27,
   "id": "ddcd5f95-170c-4f98-a3bf-e4b0a17186bd",
   "metadata": {},
   "outputs": [
    {
     "name": "stdout",
     "output_type": "stream",
     "text": [
      "{'Designers': 1, 'environmentally': 1, 'ethically': 1, 'momentum': 1, 'meet': 1, '.': 3, 'eco-friendly': 1, 'to': 1, 'are': 1, 'increasingly': 1, 'gaining': 1, 'consumers': 1, 'for': 2, 'setting': 1, 'production': 1, 'fair': 1, 'clothing': 1, 'fabrics': 1, 'is': 2, 'recycled': 1, 'incorporating': 1, 'sourced': 1, 'sustainable': 1, 'practices': 1, 'materials': 1, 'adapting': 1, 'conscious': 1, 'labor': 1, 'new': 1, 'industry': 1, 'and': 1, 'Sustainable': 1, 'ethical': 1, 'choices': 1, 'the': 1, 'a': 1, 'prioritize': 1, 'demand': 1, 'standard': 1, 'as': 1, 'fashion': 2, 'From': 1, ',': 2, 'methods': 1}\n"
     ]
    }
   ],
   "source": [
    "from nltk.tokenize import word_tokenize, sent_tokenize\n",
    "\n",
    "def calculateTF_IDF(documents):\n",
    "    documents = sent_tokenize(documents)\n",
    "    document_map = {}\n",
    "    document_tf = {}\n",
    "    unique_words = set()\n",
    "    word_idf = {}\n",
    "    \n",
    "    for i, document in enumerate(documents):\n",
    "        tokenizedWords  = nltk.word_tokenize(document)\n",
    "        document_map[i] = tokenizedWords\n",
    "\n",
    "        document_tf[i] = calculateTF(tokenizedWords)\n",
    "\n",
    "        for word in tokenizedWords:\n",
    "            unique_words.add(word)\n",
    "\n",
    "    for word in unique_words:\n",
    "        count = 0\n",
    "        for _, tokenedWords in document_map.items():\n",
    "            if word in tokenedWords:\n",
    "                count += 1\n",
    "\n",
    "        word_idf[word] = count\n",
    "\n",
    "    return word_idf, document_tf\n",
    "        \n",
    "word_idf, document_tf = calculateTF_IDF(\"Sustainable fashion is gaining momentum as consumers prioritize eco-friendly choices. From ethically sourced materials to fair labor practices, the industry is adapting to meet the demand for environmentally conscious clothing. Designers are increasingly incorporating recycled fabrics and sustainable production methods, setting a new standard for ethical fashion.\")\n",
    "print(word_idf)"
   ]
  },
  {
   "cell_type": "code",
   "execution_count": null,
   "id": "3f4d0b57-1837-4208-9939-50860c2e402d",
   "metadata": {},
   "outputs": [],
   "source": []
  }
 ],
 "metadata": {
  "kernelspec": {
   "display_name": "Python 3",
   "language": "python",
   "name": "python3"
  },
  "language_info": {
   "codemirror_mode": {
    "name": "ipython",
    "version": 3
   },
   "file_extension": ".py",
   "mimetype": "text/x-python",
   "name": "python",
   "nbconvert_exporter": "python",
   "pygments_lexer": "ipython3",
   "version": "3.8.10"
  }
 },
 "nbformat": 4,
 "nbformat_minor": 5
}
